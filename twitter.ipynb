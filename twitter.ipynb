{
 "cells": [
  {
   "cell_type": "markdown",
   "metadata": {},
   "source": [
    "# Retweet prediction from twitter dataset"
   ]
  },
  {
   "cell_type": "code",
   "execution_count": 1,
   "metadata": {},
   "outputs": [],
   "source": [
    "import numpy as np\n",
    "import pandas as pd"
   ]
  },
  {
   "cell_type": "code",
   "execution_count": 2,
   "metadata": {},
   "outputs": [],
   "source": [
    "df=pd.read_excel(\"3879190491209924863.xlsx\")"
   ]
  },
  {
   "cell_type": "code",
   "execution_count": 3,
   "metadata": {
    "scrolled": true
   },
   "outputs": [
    {
     "data": {
      "text/html": [
       "<div>\n",
       "<style scoped>\n",
       "    .dataframe tbody tr th:only-of-type {\n",
       "        vertical-align: middle;\n",
       "    }\n",
       "\n",
       "    .dataframe tbody tr th {\n",
       "        vertical-align: top;\n",
       "    }\n",
       "\n",
       "    .dataframe thead th {\n",
       "        text-align: right;\n",
       "    }\n",
       "</style>\n",
       "<table border=\"1\" class=\"dataframe\">\n",
       "  <thead>\n",
       "    <tr style=\"text-align: right;\">\n",
       "      <th></th>\n",
       "      <th>TweetPostedTime</th>\n",
       "      <th>TweetID</th>\n",
       "      <th>TweetBody</th>\n",
       "      <th>TweetRetweetFlag</th>\n",
       "      <th>TweetSource</th>\n",
       "      <th>TweetInReplyToStatusID</th>\n",
       "      <th>TweetInReplyToUserID</th>\n",
       "      <th>TweetInReplyToScreenName</th>\n",
       "      <th>TweetRetweetCount</th>\n",
       "      <th>TweetFavoritesCount</th>\n",
       "      <th>...</th>\n",
       "      <th>UserDescription</th>\n",
       "      <th>UserLink</th>\n",
       "      <th>UserExpandedLink</th>\n",
       "      <th>UserFollowersCount</th>\n",
       "      <th>UserFriendsCount</th>\n",
       "      <th>UserListedCount</th>\n",
       "      <th>UserSignupDate</th>\n",
       "      <th>UserTweetCount</th>\n",
       "      <th>MacroIterationNumber</th>\n",
       "      <th>tweet.place</th>\n",
       "    </tr>\n",
       "  </thead>\n",
       "  <tbody>\n",
       "    <tr>\n",
       "      <th>0</th>\n",
       "      <td>Tue Dec 20 10:57:00 +0000 2016</td>\n",
       "      <td>811163485052817408</td>\n",
       "      <td>RT @BeachyMaldives: Local interaction is a gre...</td>\n",
       "      <td>True</td>\n",
       "      <td>&lt;a href=\"http://twitter.com/download/iphone\" r...</td>\n",
       "      <td>NaN</td>\n",
       "      <td>NaN</td>\n",
       "      <td>NaN</td>\n",
       "      <td>1</td>\n",
       "      <td>0</td>\n",
       "      <td>...</td>\n",
       "      <td>Pls donate 2 https://t.co/RvOUK9lAWI #YearEndG...</td>\n",
       "      <td>https://t.co/jghZVBsiQF</td>\n",
       "      <td>http://cjqenterprises.com</td>\n",
       "      <td>6334</td>\n",
       "      <td>6144</td>\n",
       "      <td>1917</td>\n",
       "      <td>Sun Jun 14 22:36:15 +0000 2015</td>\n",
       "      <td>33556</td>\n",
       "      <td>0</td>\n",
       "      <td>NaN</td>\n",
       "    </tr>\n",
       "    <tr>\n",
       "      <th>1</th>\n",
       "      <td>Tue Dec 20 10:56:59 +0000 2016</td>\n",
       "      <td>811163483463122944</td>\n",
       "      <td>RT @TechTerraEd: Need #giftideas for your kid(...</td>\n",
       "      <td>True</td>\n",
       "      <td>&lt;a href=\"http://twitter.com/download/iphone\" r...</td>\n",
       "      <td>NaN</td>\n",
       "      <td>NaN</td>\n",
       "      <td>NaN</td>\n",
       "      <td>1</td>\n",
       "      <td>0</td>\n",
       "      <td>...</td>\n",
       "      <td>Educator of students with special needs, Mothe...</td>\n",
       "      <td>NaN</td>\n",
       "      <td>NaN</td>\n",
       "      <td>154</td>\n",
       "      <td>371</td>\n",
       "      <td>180</td>\n",
       "      <td>Sat Jan 02 13:36:23 +0000 2010</td>\n",
       "      <td>3201</td>\n",
       "      <td>0</td>\n",
       "      <td>NaN</td>\n",
       "    </tr>\n",
       "    <tr>\n",
       "      <th>2</th>\n",
       "      <td>Tue Dec 20 10:56:55 +0000 2016</td>\n",
       "      <td>811163466387988480</td>\n",
       "      <td>Seven Questions Before Choosing a Cruise Line ...</td>\n",
       "      <td>False</td>\n",
       "      <td>&lt;a href=\"http://www.google.com/\" rel=\"nofollow...</td>\n",
       "      <td>NaN</td>\n",
       "      <td>NaN</td>\n",
       "      <td>NaN</td>\n",
       "      <td>0</td>\n",
       "      <td>0</td>\n",
       "      <td>...</td>\n",
       "      <td>Thrifty Mom Media social media consulting and ...</td>\n",
       "      <td>https://t.co/cEhGzaQJp6</td>\n",
       "      <td>http://www.thriftymommastips.com/</td>\n",
       "      <td>23433</td>\n",
       "      <td>24762</td>\n",
       "      <td>961</td>\n",
       "      <td>Tue May 26 21:26:09 +0000 2009</td>\n",
       "      <td>147958</td>\n",
       "      <td>0</td>\n",
       "      <td>NaN</td>\n",
       "    </tr>\n",
       "    <tr>\n",
       "      <th>3</th>\n",
       "      <td>Tue Dec 20 10:56:55 +0000 2016</td>\n",
       "      <td>811163465125679104</td>\n",
       "      <td>RT @CMGsportsclub: Yoga do Brasil, un havre de...</td>\n",
       "      <td>True</td>\n",
       "      <td>&lt;a href=\"https://roundteam.co\" rel=\"nofollow\"&gt;...</td>\n",
       "      <td>NaN</td>\n",
       "      <td>NaN</td>\n",
       "      <td>NaN</td>\n",
       "      <td>1</td>\n",
       "      <td>0</td>\n",
       "      <td>...</td>\n",
       "      <td>Adventure travel, yoga, paleo, Crossfit, runni...</td>\n",
       "      <td>https://t.co/3IHwXkgAkA</td>\n",
       "      <td>https://primalsanctuary.com</td>\n",
       "      <td>11136</td>\n",
       "      <td>10081</td>\n",
       "      <td>978</td>\n",
       "      <td>Sat Sep 12 20:29:18 +0000 2015</td>\n",
       "      <td>28988</td>\n",
       "      <td>0</td>\n",
       "      <td>NaN</td>\n",
       "    </tr>\n",
       "    <tr>\n",
       "      <th>4</th>\n",
       "      <td>Tue Dec 20 10:56:53 +0000 2016</td>\n",
       "      <td>811163457508642817</td>\n",
       "      <td>RT @StylishRentals: Love this! \"Palm Springs M...</td>\n",
       "      <td>True</td>\n",
       "      <td>&lt;a href=\"http://twitter.com\" rel=\"nofollow\"&gt;Tw...</td>\n",
       "      <td>NaN</td>\n",
       "      <td>NaN</td>\n",
       "      <td>NaN</td>\n",
       "      <td>3065</td>\n",
       "      <td>0</td>\n",
       "      <td>...</td>\n",
       "      <td>I really have got giant ambitions. I start com...</td>\n",
       "      <td>NaN</td>\n",
       "      <td>NaN</td>\n",
       "      <td>55</td>\n",
       "      <td>21</td>\n",
       "      <td>31</td>\n",
       "      <td>Wed Sep 07 16:22:15 +0000 2016</td>\n",
       "      <td>19581</td>\n",
       "      <td>0</td>\n",
       "      <td>NaN</td>\n",
       "    </tr>\n",
       "  </tbody>\n",
       "</table>\n",
       "<p>5 rows × 32 columns</p>\n",
       "</div>"
      ],
      "text/plain": [
       "                  TweetPostedTime             TweetID  \\\n",
       "0  Tue Dec 20 10:57:00 +0000 2016  811163485052817408   \n",
       "1  Tue Dec 20 10:56:59 +0000 2016  811163483463122944   \n",
       "2  Tue Dec 20 10:56:55 +0000 2016  811163466387988480   \n",
       "3  Tue Dec 20 10:56:55 +0000 2016  811163465125679104   \n",
       "4  Tue Dec 20 10:56:53 +0000 2016  811163457508642817   \n",
       "\n",
       "                                           TweetBody  TweetRetweetFlag  \\\n",
       "0  RT @BeachyMaldives: Local interaction is a gre...              True   \n",
       "1  RT @TechTerraEd: Need #giftideas for your kid(...              True   \n",
       "2  Seven Questions Before Choosing a Cruise Line ...             False   \n",
       "3  RT @CMGsportsclub: Yoga do Brasil, un havre de...              True   \n",
       "4  RT @StylishRentals: Love this! \"Palm Springs M...              True   \n",
       "\n",
       "                                         TweetSource  TweetInReplyToStatusID  \\\n",
       "0  <a href=\"http://twitter.com/download/iphone\" r...                     NaN   \n",
       "1  <a href=\"http://twitter.com/download/iphone\" r...                     NaN   \n",
       "2  <a href=\"http://www.google.com/\" rel=\"nofollow...                     NaN   \n",
       "3  <a href=\"https://roundteam.co\" rel=\"nofollow\">...                     NaN   \n",
       "4  <a href=\"http://twitter.com\" rel=\"nofollow\">Tw...                     NaN   \n",
       "\n",
       "   TweetInReplyToUserID TweetInReplyToScreenName  TweetRetweetCount  \\\n",
       "0                   NaN                      NaN                  1   \n",
       "1                   NaN                      NaN                  1   \n",
       "2                   NaN                      NaN                  0   \n",
       "3                   NaN                      NaN                  1   \n",
       "4                   NaN                      NaN               3065   \n",
       "\n",
       "   TweetFavoritesCount  ...  \\\n",
       "0                    0  ...   \n",
       "1                    0  ...   \n",
       "2                    0  ...   \n",
       "3                    0  ...   \n",
       "4                    0  ...   \n",
       "\n",
       "                                     UserDescription                 UserLink  \\\n",
       "0  Pls donate 2 https://t.co/RvOUK9lAWI #YearEndG...  https://t.co/jghZVBsiQF   \n",
       "1  Educator of students with special needs, Mothe...                      NaN   \n",
       "2  Thrifty Mom Media social media consulting and ...  https://t.co/cEhGzaQJp6   \n",
       "3  Adventure travel, yoga, paleo, Crossfit, runni...  https://t.co/3IHwXkgAkA   \n",
       "4  I really have got giant ambitions. I start com...                      NaN   \n",
       "\n",
       "                    UserExpandedLink UserFollowersCount UserFriendsCount  \\\n",
       "0          http://cjqenterprises.com               6334             6144   \n",
       "1                                NaN                154              371   \n",
       "2  http://www.thriftymommastips.com/              23433            24762   \n",
       "3        https://primalsanctuary.com              11136            10081   \n",
       "4                                NaN                 55               21   \n",
       "\n",
       "  UserListedCount                  UserSignupDate  UserTweetCount  \\\n",
       "0            1917  Sun Jun 14 22:36:15 +0000 2015           33556   \n",
       "1             180  Sat Jan 02 13:36:23 +0000 2010            3201   \n",
       "2             961  Tue May 26 21:26:09 +0000 2009          147958   \n",
       "3             978  Sat Sep 12 20:29:18 +0000 2015           28988   \n",
       "4              31  Wed Sep 07 16:22:15 +0000 2016           19581   \n",
       "\n",
       "   MacroIterationNumber tweet.place  \n",
       "0                     0         NaN  \n",
       "1                     0         NaN  \n",
       "2                     0         NaN  \n",
       "3                     0         NaN  \n",
       "4                     0         NaN  \n",
       "\n",
       "[5 rows x 32 columns]"
      ]
     },
     "execution_count": 3,
     "metadata": {},
     "output_type": "execute_result"
    }
   ],
   "source": [
    "df.head()"
   ]
  },
  {
   "cell_type": "markdown",
   "metadata": {},
   "source": [
    "## Dropping empty columns"
   ]
  },
  {
   "cell_type": "code",
   "execution_count": 4,
   "metadata": {},
   "outputs": [],
   "source": [
    "drop=[]\n",
    "for column in df.columns:\n",
    "    if (df[column].isnull().sum()>(df.shape[0])/2):\n",
    "        drop.append(column)"
   ]
  },
  {
   "cell_type": "code",
   "execution_count": 5,
   "metadata": {},
   "outputs": [
    {
     "data": {
      "text/plain": [
       "['TweetInReplyToStatusID',\n",
       " 'TweetInReplyToUserID',\n",
       " 'TweetInReplyToScreenName',\n",
       " 'TweetPlaceID',\n",
       " 'TweetPlaceName',\n",
       " 'TweetPlaceFullName',\n",
       " 'TweetCountry',\n",
       " 'TweetPlaceBoundingBox',\n",
       " 'TweetPlaceAttributes',\n",
       " 'TweetPlaceContainedWithin',\n",
       " 'UserLink',\n",
       " 'UserExpandedLink',\n",
       " 'tweet.place']"
      ]
     },
     "execution_count": 5,
     "metadata": {},
     "output_type": "execute_result"
    }
   ],
   "source": [
    "drop"
   ]
  },
  {
   "cell_type": "code",
   "execution_count": 6,
   "metadata": {},
   "outputs": [],
   "source": [
    "df=df.drop(drop,axis=1)"
   ]
  },
  {
   "cell_type": "code",
   "execution_count": 7,
   "metadata": {},
   "outputs": [
    {
     "data": {
      "text/html": [
       "<div>\n",
       "<style scoped>\n",
       "    .dataframe tbody tr th:only-of-type {\n",
       "        vertical-align: middle;\n",
       "    }\n",
       "\n",
       "    .dataframe tbody tr th {\n",
       "        vertical-align: top;\n",
       "    }\n",
       "\n",
       "    .dataframe thead th {\n",
       "        text-align: right;\n",
       "    }\n",
       "</style>\n",
       "<table border=\"1\" class=\"dataframe\">\n",
       "  <thead>\n",
       "    <tr style=\"text-align: right;\">\n",
       "      <th></th>\n",
       "      <th>TweetPostedTime</th>\n",
       "      <th>TweetID</th>\n",
       "      <th>TweetBody</th>\n",
       "      <th>TweetRetweetFlag</th>\n",
       "      <th>TweetSource</th>\n",
       "      <th>TweetRetweetCount</th>\n",
       "      <th>TweetFavoritesCount</th>\n",
       "      <th>TweetHashtags</th>\n",
       "      <th>UserID</th>\n",
       "      <th>UserName</th>\n",
       "      <th>UserScreenName</th>\n",
       "      <th>UserLocation</th>\n",
       "      <th>UserDescription</th>\n",
       "      <th>UserFollowersCount</th>\n",
       "      <th>UserFriendsCount</th>\n",
       "      <th>UserListedCount</th>\n",
       "      <th>UserSignupDate</th>\n",
       "      <th>UserTweetCount</th>\n",
       "      <th>MacroIterationNumber</th>\n",
       "    </tr>\n",
       "  </thead>\n",
       "  <tbody>\n",
       "    <tr>\n",
       "      <th>0</th>\n",
       "      <td>Tue Dec 20 10:57:00 +0000 2016</td>\n",
       "      <td>811163485052817408</td>\n",
       "      <td>RT @BeachyMaldives: Local interaction is a gre...</td>\n",
       "      <td>True</td>\n",
       "      <td>&lt;a href=\"http://twitter.com/download/iphone\" r...</td>\n",
       "      <td>1</td>\n",
       "      <td>0</td>\n",
       "      <td>Maldives, vacation, travel</td>\n",
       "      <td>3325724261</td>\n",
       "      <td>CjQenterprises</td>\n",
       "      <td>CjQenterprises</td>\n",
       "      <td>United States</td>\n",
       "      <td>Pls donate 2 https://t.co/RvOUK9lAWI #YearEndG...</td>\n",
       "      <td>6334</td>\n",
       "      <td>6144</td>\n",
       "      <td>1917</td>\n",
       "      <td>Sun Jun 14 22:36:15 +0000 2015</td>\n",
       "      <td>33556</td>\n",
       "      <td>0</td>\n",
       "    </tr>\n",
       "    <tr>\n",
       "      <th>1</th>\n",
       "      <td>Tue Dec 20 10:56:59 +0000 2016</td>\n",
       "      <td>811163483463122944</td>\n",
       "      <td>RT @TechTerraEd: Need #giftideas for your kid(...</td>\n",
       "      <td>True</td>\n",
       "      <td>&lt;a href=\"http://twitter.com/download/iphone\" r...</td>\n",
       "      <td>1</td>\n",
       "      <td>0</td>\n",
       "      <td>giftideas, holiday</td>\n",
       "      <td>101222953</td>\n",
       "      <td>monica</td>\n",
       "      <td>mama0004</td>\n",
       "      <td>durham  nc</td>\n",
       "      <td>Educator of students with special needs, Mothe...</td>\n",
       "      <td>154</td>\n",
       "      <td>371</td>\n",
       "      <td>180</td>\n",
       "      <td>Sat Jan 02 13:36:23 +0000 2010</td>\n",
       "      <td>3201</td>\n",
       "      <td>0</td>\n",
       "    </tr>\n",
       "    <tr>\n",
       "      <th>2</th>\n",
       "      <td>Tue Dec 20 10:56:55 +0000 2016</td>\n",
       "      <td>811163466387988480</td>\n",
       "      <td>Seven Questions Before Choosing a Cruise Line ...</td>\n",
       "      <td>False</td>\n",
       "      <td>&lt;a href=\"http://www.google.com/\" rel=\"nofollow...</td>\n",
       "      <td>0</td>\n",
       "      <td>0</td>\n",
       "      <td>travel, TTOT</td>\n",
       "      <td>42725028</td>\n",
       "      <td>Paula Schuck</td>\n",
       "      <td>inkscrblr</td>\n",
       "      <td>Canada</td>\n",
       "      <td>Thrifty Mom Media social media consulting and ...</td>\n",
       "      <td>23433</td>\n",
       "      <td>24762</td>\n",
       "      <td>961</td>\n",
       "      <td>Tue May 26 21:26:09 +0000 2009</td>\n",
       "      <td>147958</td>\n",
       "      <td>0</td>\n",
       "    </tr>\n",
       "    <tr>\n",
       "      <th>3</th>\n",
       "      <td>Tue Dec 20 10:56:55 +0000 2016</td>\n",
       "      <td>811163465125679104</td>\n",
       "      <td>RT @CMGsportsclub: Yoga do Brasil, un havre de...</td>\n",
       "      <td>True</td>\n",
       "      <td>&lt;a href=\"https://roundteam.co\" rel=\"nofollow\"&gt;...</td>\n",
       "      <td>1</td>\n",
       "      <td>0</td>\n",
       "      <td>yoga, bresil, meditation, holiday</td>\n",
       "      <td>3541532718</td>\n",
       "      <td>Primal Sanctuary</td>\n",
       "      <td>primalsanctuary</td>\n",
       "      <td>Cypress, Texas, USA</td>\n",
       "      <td>Adventure travel, yoga, paleo, Crossfit, runni...</td>\n",
       "      <td>11136</td>\n",
       "      <td>10081</td>\n",
       "      <td>978</td>\n",
       "      <td>Sat Sep 12 20:29:18 +0000 2015</td>\n",
       "      <td>28988</td>\n",
       "      <td>0</td>\n",
       "    </tr>\n",
       "    <tr>\n",
       "      <th>4</th>\n",
       "      <td>Tue Dec 20 10:56:53 +0000 2016</td>\n",
       "      <td>811163457508642817</td>\n",
       "      <td>RT @StylishRentals: Love this! \"Palm Springs M...</td>\n",
       "      <td>True</td>\n",
       "      <td>&lt;a href=\"http://twitter.com\" rel=\"nofollow\"&gt;Tw...</td>\n",
       "      <td>3065</td>\n",
       "      <td>0</td>\n",
       "      <td>Travel</td>\n",
       "      <td>773556998034063360</td>\n",
       "      <td>Joe</td>\n",
       "      <td>biryukovasever2</td>\n",
       "      <td>Providence</td>\n",
       "      <td>I really have got giant ambitions. I start com...</td>\n",
       "      <td>55</td>\n",
       "      <td>21</td>\n",
       "      <td>31</td>\n",
       "      <td>Wed Sep 07 16:22:15 +0000 2016</td>\n",
       "      <td>19581</td>\n",
       "      <td>0</td>\n",
       "    </tr>\n",
       "  </tbody>\n",
       "</table>\n",
       "</div>"
      ],
      "text/plain": [
       "                  TweetPostedTime             TweetID  \\\n",
       "0  Tue Dec 20 10:57:00 +0000 2016  811163485052817408   \n",
       "1  Tue Dec 20 10:56:59 +0000 2016  811163483463122944   \n",
       "2  Tue Dec 20 10:56:55 +0000 2016  811163466387988480   \n",
       "3  Tue Dec 20 10:56:55 +0000 2016  811163465125679104   \n",
       "4  Tue Dec 20 10:56:53 +0000 2016  811163457508642817   \n",
       "\n",
       "                                           TweetBody  TweetRetweetFlag  \\\n",
       "0  RT @BeachyMaldives: Local interaction is a gre...              True   \n",
       "1  RT @TechTerraEd: Need #giftideas for your kid(...              True   \n",
       "2  Seven Questions Before Choosing a Cruise Line ...             False   \n",
       "3  RT @CMGsportsclub: Yoga do Brasil, un havre de...              True   \n",
       "4  RT @StylishRentals: Love this! \"Palm Springs M...              True   \n",
       "\n",
       "                                         TweetSource  TweetRetweetCount  \\\n",
       "0  <a href=\"http://twitter.com/download/iphone\" r...                  1   \n",
       "1  <a href=\"http://twitter.com/download/iphone\" r...                  1   \n",
       "2  <a href=\"http://www.google.com/\" rel=\"nofollow...                  0   \n",
       "3  <a href=\"https://roundteam.co\" rel=\"nofollow\">...                  1   \n",
       "4  <a href=\"http://twitter.com\" rel=\"nofollow\">Tw...               3065   \n",
       "\n",
       "   TweetFavoritesCount                      TweetHashtags              UserID  \\\n",
       "0                    0         Maldives, vacation, travel          3325724261   \n",
       "1                    0                 giftideas, holiday           101222953   \n",
       "2                    0                       travel, TTOT            42725028   \n",
       "3                    0  yoga, bresil, meditation, holiday          3541532718   \n",
       "4                    0                             Travel  773556998034063360   \n",
       "\n",
       "           UserName   UserScreenName         UserLocation  \\\n",
       "0    CjQenterprises   CjQenterprises        United States   \n",
       "1            monica         mama0004           durham  nc   \n",
       "2      Paula Schuck        inkscrblr               Canada   \n",
       "3  Primal Sanctuary  primalsanctuary  Cypress, Texas, USA   \n",
       "4               Joe  biryukovasever2           Providence   \n",
       "\n",
       "                                     UserDescription  UserFollowersCount  \\\n",
       "0  Pls donate 2 https://t.co/RvOUK9lAWI #YearEndG...                6334   \n",
       "1  Educator of students with special needs, Mothe...                 154   \n",
       "2  Thrifty Mom Media social media consulting and ...               23433   \n",
       "3  Adventure travel, yoga, paleo, Crossfit, runni...               11136   \n",
       "4  I really have got giant ambitions. I start com...                  55   \n",
       "\n",
       "   UserFriendsCount  UserListedCount                  UserSignupDate  \\\n",
       "0              6144             1917  Sun Jun 14 22:36:15 +0000 2015   \n",
       "1               371              180  Sat Jan 02 13:36:23 +0000 2010   \n",
       "2             24762              961  Tue May 26 21:26:09 +0000 2009   \n",
       "3             10081              978  Sat Sep 12 20:29:18 +0000 2015   \n",
       "4                21               31  Wed Sep 07 16:22:15 +0000 2016   \n",
       "\n",
       "   UserTweetCount  MacroIterationNumber  \n",
       "0           33556                     0  \n",
       "1            3201                     0  \n",
       "2          147958                     0  \n",
       "3           28988                     0  \n",
       "4           19581                     0  "
      ]
     },
     "execution_count": 7,
     "metadata": {},
     "output_type": "execute_result"
    }
   ],
   "source": [
    "df.head()"
   ]
  },
  {
   "cell_type": "code",
   "execution_count": 8,
   "metadata": {},
   "outputs": [
    {
     "data": {
      "text/plain": [
       "Index(['TweetPostedTime', 'TweetID', 'TweetBody', 'TweetRetweetFlag',\n",
       "       'TweetSource', 'TweetRetweetCount', 'TweetFavoritesCount',\n",
       "       'TweetHashtags', 'UserID', 'UserName', 'UserScreenName', 'UserLocation',\n",
       "       'UserDescription', 'UserFollowersCount', 'UserFriendsCount',\n",
       "       'UserListedCount', 'UserSignupDate', 'UserTweetCount',\n",
       "       'MacroIterationNumber'],\n",
       "      dtype='object')"
      ]
     },
     "execution_count": 8,
     "metadata": {},
     "output_type": "execute_result"
    }
   ],
   "source": [
    "df.columns"
   ]
  },
  {
   "cell_type": "markdown",
   "metadata": {},
   "source": [
    "## EDA & Feature engineering"
   ]
  },
  {
   "cell_type": "markdown",
   "metadata": {},
   "source": [
    "### 1.Tweet posted time"
   ]
  },
  {
   "cell_type": "code",
   "execution_count": 9,
   "metadata": {},
   "outputs": [],
   "source": [
    "import datetime"
   ]
  },
  {
   "cell_type": "markdown",
   "metadata": {},
   "source": [
    "Extracted hour time at which tweet was tweeted"
   ]
  },
  {
   "cell_type": "code",
   "execution_count": 10,
   "metadata": {},
   "outputs": [],
   "source": [
    "df['Time'] =[datetime.datetime.strptime(d, '%a %b %d %H:%M:%S %z %Y') for d in df['TweetPostedTime']]\n",
    "df['Time'] = [d.hour for d in df['Time']] \n",
    "no_of_tweets=df['Time'].value_counts()"
   ]
  },
  {
   "cell_type": "markdown",
   "metadata": {},
   "source": [
    " Plotting bar graph to see at what hour maximum tweets are twitted"
   ]
  },
  {
   "cell_type": "code",
   "execution_count": 11,
   "metadata": {},
   "outputs": [],
   "source": [
    "import seaborn as sns"
   ]
  },
  {
   "cell_type": "code",
   "execution_count": 12,
   "metadata": {},
   "outputs": [
    {
     "data": {
      "text/plain": [
       "[<matplotlib.text.Text at 0x7f88daf427b8>,\n",
       " <matplotlib.text.Text at 0x7f88daece0f0>,\n",
       " <matplotlib.text.Text at 0x7f88daed65f8>]"
      ]
     },
     "execution_count": 12,
     "metadata": {},
     "output_type": "execute_result"
    },
    {
     "data": {
      "image/png": "[encoded data removed]",
      "text/plain": [
       "<matplotlib.figure.Figure at 0x7f88daf06550>"
      ]
     },
     "metadata": {},
     "output_type": "display_data"
    }
   ],
   "source": [
    "ax=sns.barplot(y=no_of_tweets.values, x=no_of_tweets.index)\n",
    "ax.set(xlabel='24-H-Format', ylabel='No. of Tweets',title='Tweets distribution')"
   ]
  },
  {
   "cell_type": "markdown",
   "metadata": {},
   "source": [
    "Inference from above graph:\n",
    "1. Clearly at 6 Am maximum tweets were retwetted while 1,3 and 8 am also being peak hours.\n",
    "2. Least retweets are made between 12 am to 1 am."
   ]
  },
  {
   "cell_type": "markdown",
   "metadata": {},
   "source": [
    "### 2. Tweet Body and Tweet Retweet Flag"
   ]
  },
  {
   "cell_type": "code",
   "execution_count": 13,
   "metadata": {},
   "outputs": [
    {
     "name": "stdout",
     "output_type": "stream",
     "text": [
      "The percentage of retweets is 63% of all the tweets\n"
     ]
    }
   ],
   "source": [
    "Retweets = df[df['TweetRetweetFlag'] == True]\n",
    "print(f\"The percentage of retweets is {round(len(Retweets)/len(df)*100)}% of all the tweets\")"
   ]
  },
  {
   "cell_type": "code",
   "execution_count": 14,
   "metadata": {},
   "outputs": [
    {
     "name": "stdout",
     "output_type": "stream",
     "text": [
      "The percentage of tweets without retweet is 37% of all the tweets\n"
     ]
    }
   ],
   "source": [
    "NoRetweets= df[df['TweetRetweetFlag'] == False]\n",
    "print(f\"The percentage of tweets without retweet is {round(len(NoRetweets)/len(df)*100)}% of all the tweets\")"
   ]
  },
  {
   "cell_type": "markdown",
   "metadata": {},
   "source": [
    "#### A tweet is more likely to be retweeted if it has hashtags and other users mentioned , let's see what pattern this data has"
   ]
  },
  {
   "cell_type": "code",
   "execution_count": 15,
   "metadata": {},
   "outputs": [
    {
     "name": "stdout",
     "output_type": "stream",
     "text": [
      "The percentage of retweets with mentions is 64% of all the Retweets\n"
     ]
    }
   ],
   "source": [
    "RT_M = df[ (df['TweetBody'].str.count(\"@\") == 2) & (df['TweetRetweetFlag'] == True) ]\n",
    "print(f\"The percentage of retweets with mentions is {round(len(RT_M)/len(Retweets)*100)}% of all the Retweets\")"
   ]
  },
  {
   "cell_type": "code",
   "execution_count": 16,
   "metadata": {},
   "outputs": [
    {
     "name": "stdout",
     "output_type": "stream",
     "text": [
      "The percentage of retweets without mentions is 36% of all the Retweets\n"
     ]
    }
   ],
   "source": [
    "RT_NM=df[(df['TweetRetweetFlag'] == True)& (df['TweetBody'].str.count(\"@\") != 2)]\n",
    "print(f\"The percentage of retweets without mentions is {round(len(RT_NM)/len(Retweets)*100)}% of all the Retweets\")"
   ]
  },
  {
   "cell_type": "markdown",
   "metadata": {},
   "source": [
    "#### Clearly tweets with user mentions has high percentage to be retweeted "
   ]
  },
  {
   "cell_type": "code",
   "execution_count": 17,
   "metadata": {},
   "outputs": [
    {
     "name": "stdout",
     "output_type": "stream",
     "text": [
      "The percentage of retweets with hashtags is 100% of all the Retweets\n"
     ]
    }
   ],
   "source": [
    "RT_H=df[(df['TweetRetweetFlag'] == True)& df['TweetBody'].str.contains(\"#\")]\n",
    "print(f\"The percentage of retweets with hashtags is {round(len(RT_H)/len(Retweets)*100)}% of all the Retweets\")"
   ]
  },
  {
   "cell_type": "code",
   "execution_count": 18,
   "metadata": {},
   "outputs": [
    {
     "name": "stdout",
     "output_type": "stream",
     "text": [
      "The percentage of retweets without hashtags is 0% of all the Retweets\n"
     ]
    }
   ],
   "source": [
    "RT_NH=df[(df['TweetRetweetFlag'] == True)& (~df['TweetBody'].str.contains(\"#\"))]\n",
    "print(f\"The percentage of retweets without hashtags is {round(len(RT_NH)/len(Retweets)*100)}% of all the Retweets\")"
   ]
  },
  {
   "cell_type": "markdown",
   "metadata": {},
   "source": [
    "#### Percentage of retweets with hashtags is 100% which shows hashtags has a major impact on a tweet to be retweeted for this dataset"
   ]
  },
  {
   "cell_type": "code",
   "execution_count": 20,
   "metadata": {},
   "outputs": [
    {
     "name": "stdout",
     "output_type": "stream",
     "text": [
      "The percentage of tweets without retweet and with hashtags is 99% of all the Retweets\n"
     ]
    }
   ],
   "source": [
    "NRT_H=df[(df['TweetRetweetFlag'] == False)& df['TweetBody'].str.contains(\"#\") ]\n",
    "print(f\"The percentage of tweets without retweet and with hashtags is {round(len(NRT_H)/len(NoRetweets)*100)}% of all the Retweets\")"
   ]
  },
  {
   "cell_type": "markdown",
   "metadata": {},
   "source": [
    "#### But tweets which were not retweeted but has hashtags are 99% , which implies almost all tweets which were not retweeted had hashtags , so hashtag is not that good feature for this dataset \n",
    "#### Below is a bar graph for the same"
   ]
  },
  {
   "cell_type": "code",
   "execution_count": 21,
   "metadata": {},
   "outputs": [],
   "source": [
    "t_y = [ len(Retweets), len(NoRetweets),len(RT_M), len(RT_NM), len(RT_H),len(RT_NH),len(RT_H)]\n",
    "t_x = ['RT','NRT', 'Mentions', 'No_Menitions ', 'Hashtags' ,'No_Hashtags','              NRT_Hashtags']"
   ]
  },
  {
   "cell_type": "code",
   "execution_count": 22,
   "metadata": {},
   "outputs": [],
   "source": [
    "import matplotlib.pyplot as plt\n",
    "import seaborn as sns"
   ]
  },
  {
   "cell_type": "code",
   "execution_count": 23,
   "metadata": {},
   "outputs": [
    {
     "data": {
      "image/png": "[encoded data removed]",
      "text/plain": [
       "<matplotlib.figure.Figure at 0x7f88dada6e80>"
      ]
     },
     "metadata": {},
     "output_type": "display_data"
    }
   ],
   "source": [
    "plt.figure(figsize=(10,8))\n",
    "plt.title('Tweet categories', fontsize = 20)\n",
    "plt.xlabel('Types of tweet',fontsize = 20)\n",
    "plt.ylabel('Number of tweets',fontsize = 20)\n",
    "sns.barplot(x = t_x, y = t_y)\n",
    "\n",
    "plt.show()"
   ]
  },
  {
   "cell_type": "markdown",
   "metadata": {},
   "source": [
    "&emsp;&emsp;RT- Tweets which are retweeted\n",
    "<br>\n",
    "&emsp;&emsp;NRT - Tweets which are not retweeted\n",
    "<br>\n",
    "&emsp;&emsp;Mentions - Retweeted tweet with mentions\n",
    "<br>\n",
    " &emsp;&emsp;No_mentions - Retweeted tweet without mentions\n",
    "<br>\n",
    " &emsp;&emsp;Hashtags - Retweeted tweet with hashtags\n",
    "<br>\n",
    " &emsp;&emsp;No_Hashtags - Retweeted tweet without hashtags\n",
    "<br>\n",
    " &emsp;&emsp;NRT_Hashtags - Tweets which are not retweeted but had hashtags                                    "
   ]
  },
  {
   "cell_type": "markdown",
   "metadata": {},
   "source": [
    "### 3. TweetSource\n",
    "#### From tweet source, extracted the type of device from which retweet was posted and plotted a bar graph to see which device is used more ."
   ]
  },
  {
   "cell_type": "code",
   "execution_count": 24,
   "metadata": {},
   "outputs": [
    {
     "name": "stderr",
     "output_type": "stream",
     "text": [
      "/usr/lib/python3/dist-packages/ipykernel_launcher.py:1: SettingWithCopyWarning: \n",
      "A value is trying to be set on a copy of a slice from a DataFrame.\n",
      "Try using .loc[row_indexer,col_indexer] = value instead\n",
      "\n",
      "See the caveats in the documentation: http://pandas.pydata.org/pandas-docs/stable/indexing.html#indexing-view-versus-copy\n",
      "  \"\"\"Entry point for launching an IPython kernel.\n"
     ]
    }
   ],
   "source": [
    "Retweets['TweetSource']=Retweets['TweetSource'].apply(lambda x :x.split('>')[1].split('<')[0])"
   ]
  },
  {
   "cell_type": "code",
   "execution_count": 25,
   "metadata": {},
   "outputs": [
    {
     "name": "stderr",
     "output_type": "stream",
     "text": [
      "/usr/lib/python3/dist-packages/ipykernel_launcher.py:1: SettingWithCopyWarning: \n",
      "A value is trying to be set on a copy of a slice from a DataFrame.\n",
      "Try using .loc[row_indexer,col_indexer] = value instead\n",
      "\n",
      "See the caveats in the documentation: http://pandas.pydata.org/pandas-docs/stable/indexing.html#indexing-view-versus-copy\n",
      "  \"\"\"Entry point for launching an IPython kernel.\n"
     ]
    }
   ],
   "source": [
    "Retweets['TweetSource']=Retweets['TweetSource'].apply(lambda x :x.lower())"
   ]
  },
  {
   "cell_type": "code",
   "execution_count": 26,
   "metadata": {},
   "outputs": [],
   "source": [
    "Web=Retweets[Retweets['TweetSource'].str.contains(\"web\")]\n",
    "Web_l=len(Web)\n",
    "iPhone_iPad=Retweets[Retweets['TweetSource'].str.contains(\"iphone\") | Retweets['TweetSource'].str.contains(\"ipad\")]\n",
    "iPhone_l=len(iPhone_iPad)\n",
    "Android=Retweets[Retweets['TweetSource'].str.contains(\"android\")]\n",
    "Android_l=len(Android)\n",
    "App=Retweets[Retweets['TweetSource'].str.contains(\"app\")]\n",
    "App_l=len(App)\n",
    "Instagram_Facebook=Retweets[Retweets['TweetSource'].str.contains(\"instagram\") | Retweets['TweetSource'].str.contains(\"facebook\")]\n",
    "Insta_Fb=len(Instagram_Facebook)"
   ]
  },
  {
   "cell_type": "code",
   "execution_count": 27,
   "metadata": {},
   "outputs": [],
   "source": [
    "Bot=Retweets[Retweets['TweetSource'].str.contains(\"bot\")]\n",
    "Bot_l=len(Bot)\n",
    "drop=pd.concat([Web,App,iPhone_iPad,Android,Instagram_Facebook,Bot])\n",
    "other_websites=Retweets.drop(index=drop.index)\n",
    "web_apps=len(other_websites)"
   ]
  },
  {
   "cell_type": "code",
   "execution_count": 28,
   "metadata": {},
   "outputs": [],
   "source": [
    "r_y = [Web_l,App_l,iPhone_l,Android_l,Insta_Fb,Bot_l,web_apps]\n",
    "r_x = ['Web','Apps','iPhone_iPad','Android','Insta_Fb','Bot','other_webApps']"
   ]
  },
  {
   "cell_type": "code",
   "execution_count": 29,
   "metadata": {
    "scrolled": true
   },
   "outputs": [
    {
     "data": {
      "image/png": "[encoded data removed]",
      "text/plain": [
       "<matplotlib.figure.Figure at 0x7f88dacbd630>"
      ]
     },
     "metadata": {},
     "output_type": "display_data"
    }
   ],
   "source": [
    "plt.figure(figsize=(10,5))\n",
    "plt.title('Device Used', fontsize = 20)\n",
    "plt.ylabel('Types of Device',fontsize = 20)\n",
    "plt.xlabel('Tweets Retweeted',fontsize = 20)\n",
    "sns.barplot(x = r_y, y = r_x)\n",
    "\n",
    "plt.show()"
   ]
  },
  {
   "cell_type": "markdown",
   "metadata": {},
   "source": [
    "    From the above graph we can see, mostly Web browsers are used than mobiles and other apps."
   ]
  },
  {
   "cell_type": "markdown",
   "metadata": {},
   "source": [
    "### 4. TweetFavoritesCount - \n",
    "###### No of tweets user has liked <br> Let's see if it has any relation with number of retweets\n",
    "###### As retweet count is a continuous variableand this is a regression problem, we will try to see if it has a correlation with any feature and I have plotted graphs accordingly  "
   ]
  },
  {
   "cell_type": "code",
   "execution_count": 30,
   "metadata": {
    "scrolled": true
   },
   "outputs": [
    {
     "data": {
      "text/plain": [
       "<matplotlib.axes._subplots.AxesSubplot at 0x7f88dad57780>"
      ]
     },
     "execution_count": 30,
     "metadata": {},
     "output_type": "execute_result"
    },
    {
     "data": {
      "image/png": "[encoded data removed]",
      "text/plain": [
       "<matplotlib.figure.Figure at 0x7f88dacbdbe0>"
      ]
     },
     "metadata": {},
     "output_type": "display_data"
    }
   ],
   "source": [
    "df.plot(kind='scatter', x='TweetFavoritesCount', y='TweetRetweetCount')"
   ]
  },
  {
   "cell_type": "markdown",
   "metadata": {},
   "source": [
    "#### Clearly no relation is seen between this two features\n",
    "\n",
    "### 5. Hashtags\n",
    "#### I have created a new column (Hashtags_count) which has count of hashtags used in a tweet<br>As we saw hashtag was not a great feature , let's see it visually. "
   ]
  },
  {
   "cell_type": "code",
   "execution_count": 31,
   "metadata": {},
   "outputs": [],
   "source": [
    "Hashtags_count = []\n",
    "df.TweetHashtags.fillna(\"no\",inplace=True)\n",
    "for i in range(len(df.TweetHashtags)):\n",
    "    if df.TweetHashtags[i]== \"no\":\n",
    "        Hashtags_count.append(0)\n",
    "    else:\n",
    "        Hashtags_count.append((len([j for j in df.TweetHashtags[i].split(\",\")])))"
   ]
  },
  {
   "cell_type": "code",
   "execution_count": 32,
   "metadata": {},
   "outputs": [],
   "source": [
    "df['hashtag_count']=Hashtags_count"
   ]
  },
  {
   "cell_type": "code",
   "execution_count": 33,
   "metadata": {},
   "outputs": [
    {
     "name": "stderr",
     "output_type": "stream",
     "text": [
      "/usr/local/lib/python3.6/dist-packages/scipy/stats/stats.py:1633: FutureWarning: Using a non-tuple sequence for multidimensional indexing is deprecated; use `arr[tuple(seq)]` instead of `arr[seq]`. In the future this will be interpreted as an array index, `arr[np.array(seq)]`, which will result either in an error or a different result.\n",
      "  return np.add.reduce(sorted[indexer] * weights, axis=axis) / sumval\n"
     ]
    },
    {
     "data": {
      "image/png": "[encoded data removed]",
      "text/plain": [
       "<matplotlib.figure.Figure at 0x7f88dac412e8>"
      ]
     },
     "metadata": {},
     "output_type": "display_data"
    }
   ],
   "source": [
    "f, axes = plt.subplots(1,2, figsize=(16, 8))\n",
    "\n",
    "sns.scatterplot(x=df['hashtag_count'],y=df['TweetRetweetCount'],data=df,ax=axes[0])\n",
    "sns.regplot(x=df['hashtag_count'],y=df['TweetRetweetCount'], ax=axes[1]).set(xlim=(0,20),ylim=(0,4500))\n",
    "plt.show()"
   ]
  },
  {
   "cell_type": "markdown",
   "metadata": {},
   "source": [
    "#### This scatter plot shows expecteed result. Infact it shows a negative regression line."
   ]
  },
  {
   "cell_type": "markdown",
   "metadata": {},
   "source": [
    "### 6. UserFollowersCount - No. of followers of a user.\n",
    "####      More the no. of followers more should be the retweet count"
   ]
  },
  {
   "cell_type": "code",
   "execution_count": 34,
   "metadata": {
    "scrolled": false
   },
   "outputs": [
    {
     "data": {
      "text/plain": [
       "(20000, 25000)"
      ]
     },
     "execution_count": 34,
     "metadata": {},
     "output_type": "execute_result"
    },
    {
     "data": {
      "image/png": "[encoded data removed]",
      "text/plain": [
       "<matplotlib.figure.Figure at 0x7f88dabb1b38>"
      ]
     },
     "metadata": {},
     "output_type": "display_data"
    }
   ],
   "source": [
    "fig, axs = plt.subplots(2, 2)\n",
    "df.plot(kind='scatter', x='UserFollowersCount', y='TweetRetweetCount',ax=axs[0,0],figsize=(16,8))\n",
    "df.plot(kind='scatter', x='UserFollowersCount', y='TweetRetweetCount', ax=axs[0,1])\n",
    "df.plot(kind='scatter', x='UserFollowersCount', y='TweetRetweetCount', ax=axs[1,0])\n",
    "df.plot(kind='scatter', x='UserFollowersCount', y='TweetRetweetCount', ax=axs[1,1])\n",
    "axs[0,0].set_xlim(0,5000)\n",
    "axs[0,1].set_xlim(50000,10000)\n",
    "axs[1,0].set_xlim(10000,20000)\n",
    "axs[1,1].set_xlim(20000,25000)\n"
   ]
  },
  {
   "cell_type": "markdown",
   "metadata": {},
   "source": [
    "#### I have plotted graph for different range of followers , still user followers count does not show and good relation with retweet count for this dataset"
   ]
  },
  {
   "cell_type": "markdown",
   "metadata": {},
   "source": [
    "#### Next I have plotted graphs for features - Friends count , Listed Count , Tweet count and MacoIterationNumber w.r.t retweet count to see the relation."
   ]
  },
  {
   "cell_type": "code",
   "execution_count": 35,
   "metadata": {},
   "outputs": [
    {
     "name": "stderr",
     "output_type": "stream",
     "text": [
      "/usr/local/lib/python3.6/dist-packages/scipy/stats/stats.py:1633: FutureWarning: Using a non-tuple sequence for multidimensional indexing is deprecated; use `arr[tuple(seq)]` instead of `arr[seq]`. In the future this will be interpreted as an array index, `arr[np.array(seq)]`, which will result either in an error or a different result.\n",
      "  return np.add.reduce(sorted[indexer] * weights, axis=axis) / sumval\n"
     ]
    },
    {
     "data": {
      "image/png": "[encoded data removed]",
      "text/plain": [
       "<matplotlib.figure.Figure at 0x7f88da972ba8>"
      ]
     },
     "metadata": {},
     "output_type": "display_data"
    }
   ],
   "source": [
    "f, axes = plt.subplots(2, 2, figsize=(16, 8))\n",
    "sns.regplot(x=df['UserFriendsCount'],y=df['TweetRetweetCount'] ,ax=axes[0, 0]).set(xlim=(0,10000),ylim=(0,4500))\n",
    "    \n",
    "sns.regplot(x=df['UserListedCount'],y=df['TweetRetweetCount'], ax=axes[0, 1]).set(xlim=(0,5000),ylim=(0,4500))\n",
    "\n",
    "sns.regplot(x=df['UserTweetCount'],y=df['TweetRetweetCount'], ax=axes[1, 0]).set(xlim=(0,10000),ylim=(0,4500))\n",
    "\n",
    "sns.regplot(x=df['MacroIterationNumber'],y=df['TweetRetweetCount'], ax=axes[1, 1]).set(xlim=(0,500),ylim=(0,4500))\n",
    "\n",
    "plt.show()"
   ]
  },
  {
   "cell_type": "markdown",
   "metadata": {},
   "source": [
    "#### we can see from the graphs that  no feature has a major impact on retweet count"
   ]
  },
  {
   "cell_type": "markdown",
   "metadata": {},
   "source": [
    "#### From UserSignupDate I have sliced the year of sign up<br>The older the user the chances for tweet to be retweeted should be more"
   ]
  },
  {
   "cell_type": "code",
   "execution_count": 36,
   "metadata": {},
   "outputs": [
    {
     "data": {
      "text/plain": [
       "0    2015\n",
       "1    2010\n",
       "2    2009\n",
       "3    2015\n",
       "4    2016\n",
       "Name: UserSignupYear, dtype: int64"
      ]
     },
     "execution_count": 36,
     "metadata": {},
     "output_type": "execute_result"
    }
   ],
   "source": [
    "df['UserSignupYear']=df['UserSignupDate'].apply(lambda x:x[-4:])\n",
    "df['UserSignupYear']=df['UserSignupYear'].astype(int)\n",
    "df['UserSignupYear'].head()"
   ]
  },
  {
   "cell_type": "code",
   "execution_count": 37,
   "metadata": {},
   "outputs": [
    {
     "data": {
      "text/plain": [
       "<matplotlib.axes._subplots.AxesSubplot at 0x7f88d90bf6a0>"
      ]
     },
     "execution_count": 37,
     "metadata": {},
     "output_type": "execute_result"
    },
    {
     "data": {
      "image/png": "[encoded data removed]",
      "text/plain": [
       "<matplotlib.figure.Figure at 0x7f88dac97c88>"
      ]
     },
     "metadata": {},
     "output_type": "display_data"
    }
   ],
   "source": [
    "df.plot(kind='scatter', x='UserSignupYear', y='TweetRetweetCount')"
   ]
  },
  {
   "cell_type": "markdown",
   "metadata": {},
   "source": [
    "####  But this feature also does not show good correlation<br><br>No feature is showing the expected relation  , the reason being that this data is only for few hours of one day. "
   ]
  },
  {
   "cell_type": "markdown",
   "metadata": {},
   "source": [
    "#### Let's see correlation of each feature visually"
   ]
  },
  {
   "cell_type": "code",
   "execution_count": 38,
   "metadata": {},
   "outputs": [
    {
     "data": {
      "text/plain": [
       "<matplotlib.axes._subplots.AxesSubplot at 0x7f88d9164048>"
      ]
     },
     "execution_count": 38,
     "metadata": {},
     "output_type": "execute_result"
    },
    {
     "data": {
      "image/png": "[encoded data removed]",
      "text/plain": [
       "<matplotlib.figure.Figure at 0x7f88d918a588>"
      ]
     },
     "metadata": {},
     "output_type": "display_data"
    }
   ],
   "source": [
    "corr=df[['TweetRetweetFlag','TweetFavoritesCount','UserFollowersCount','UserFriendsCount','UserListedCount',\n",
    "         'UserTweetCount','MacroIterationNumber','hashtag_count','TweetRetweetCount','UserSignupYear']]\n",
    "\n",
    "heat=corr.corr()\n",
    "\n",
    "sns.heatmap(heat)"
   ]
  },
  {
   "cell_type": "code",
   "execution_count": 39,
   "metadata": {
    "scrolled": true
   },
   "outputs": [
    {
     "name": "stderr",
     "output_type": "stream",
     "text": [
      "/usr/lib/python3/dist-packages/ipykernel_launcher.py:2: SettingWithCopyWarning: \n",
      "A value is trying to be set on a copy of a slice from a DataFrame.\n",
      "Try using .loc[row_indexer,col_indexer] = value instead\n",
      "\n",
      "See the caveats in the documentation: http://pandas.pydata.org/pandas-docs/stable/indexing.html#indexing-view-versus-copy\n",
      "  \n"
     ]
    },
    {
     "data": {
      "text/html": [
       "<div>\n",
       "<style scoped>\n",
       "    .dataframe tbody tr th:only-of-type {\n",
       "        vertical-align: middle;\n",
       "    }\n",
       "\n",
       "    .dataframe tbody tr th {\n",
       "        vertical-align: top;\n",
       "    }\n",
       "\n",
       "    .dataframe thead th {\n",
       "        text-align: right;\n",
       "    }\n",
       "</style>\n",
       "<table border=\"1\" class=\"dataframe\">\n",
       "  <thead>\n",
       "    <tr style=\"text-align: right;\">\n",
       "      <th></th>\n",
       "      <th>TweetRetweetFlag</th>\n",
       "      <th>TweetFavoritesCount</th>\n",
       "      <th>UserFollowersCount</th>\n",
       "      <th>UserFriendsCount</th>\n",
       "      <th>UserListedCount</th>\n",
       "      <th>UserTweetCount</th>\n",
       "      <th>MacroIterationNumber</th>\n",
       "      <th>hashtag_count</th>\n",
       "      <th>TweetRetweetCount</th>\n",
       "      <th>UserSignupYear</th>\n",
       "    </tr>\n",
       "  </thead>\n",
       "  <tbody>\n",
       "    <tr>\n",
       "      <th>0</th>\n",
       "      <td>1</td>\n",
       "      <td>0</td>\n",
       "      <td>6334</td>\n",
       "      <td>6144</td>\n",
       "      <td>1917</td>\n",
       "      <td>33556</td>\n",
       "      <td>0</td>\n",
       "      <td>3</td>\n",
       "      <td>1</td>\n",
       "      <td>2015</td>\n",
       "    </tr>\n",
       "    <tr>\n",
       "      <th>1</th>\n",
       "      <td>1</td>\n",
       "      <td>0</td>\n",
       "      <td>154</td>\n",
       "      <td>371</td>\n",
       "      <td>180</td>\n",
       "      <td>3201</td>\n",
       "      <td>0</td>\n",
       "      <td>2</td>\n",
       "      <td>1</td>\n",
       "      <td>2010</td>\n",
       "    </tr>\n",
       "    <tr>\n",
       "      <th>2</th>\n",
       "      <td>0</td>\n",
       "      <td>0</td>\n",
       "      <td>23433</td>\n",
       "      <td>24762</td>\n",
       "      <td>961</td>\n",
       "      <td>147958</td>\n",
       "      <td>0</td>\n",
       "      <td>2</td>\n",
       "      <td>0</td>\n",
       "      <td>2009</td>\n",
       "    </tr>\n",
       "    <tr>\n",
       "      <th>3</th>\n",
       "      <td>1</td>\n",
       "      <td>0</td>\n",
       "      <td>11136</td>\n",
       "      <td>10081</td>\n",
       "      <td>978</td>\n",
       "      <td>28988</td>\n",
       "      <td>0</td>\n",
       "      <td>4</td>\n",
       "      <td>1</td>\n",
       "      <td>2015</td>\n",
       "    </tr>\n",
       "    <tr>\n",
       "      <th>4</th>\n",
       "      <td>1</td>\n",
       "      <td>0</td>\n",
       "      <td>55</td>\n",
       "      <td>21</td>\n",
       "      <td>31</td>\n",
       "      <td>19581</td>\n",
       "      <td>0</td>\n",
       "      <td>1</td>\n",
       "      <td>3065</td>\n",
       "      <td>2016</td>\n",
       "    </tr>\n",
       "  </tbody>\n",
       "</table>\n",
       "</div>"
      ],
      "text/plain": [
       "   TweetRetweetFlag  TweetFavoritesCount  UserFollowersCount  \\\n",
       "0                 1                    0                6334   \n",
       "1                 1                    0                 154   \n",
       "2                 0                    0               23433   \n",
       "3                 1                    0               11136   \n",
       "4                 1                    0                  55   \n",
       "\n",
       "   UserFriendsCount  UserListedCount  UserTweetCount  MacroIterationNumber  \\\n",
       "0              6144             1917           33556                     0   \n",
       "1               371              180            3201                     0   \n",
       "2             24762              961          147958                     0   \n",
       "3             10081              978           28988                     0   \n",
       "4                21               31           19581                     0   \n",
       "\n",
       "   hashtag_count  TweetRetweetCount  UserSignupYear  \n",
       "0              3                  1            2015  \n",
       "1              2                  1            2010  \n",
       "2              2                  0            2009  \n",
       "3              4                  1            2015  \n",
       "4              1               3065            2016  "
      ]
     },
     "execution_count": 39,
     "metadata": {},
     "output_type": "execute_result"
    }
   ],
   "source": [
    "df_final=corr\n",
    "df_final['TweetRetweetFlag']= df_final['TweetRetweetFlag'].astype(int)\n",
    "df_final.head()"
   ]
  },
  {
   "cell_type": "markdown",
   "metadata": {},
   "source": [
    "## Data normalisation"
   ]
  },
  {
   "cell_type": "code",
   "execution_count": 40,
   "metadata": {},
   "outputs": [
    {
     "name": "stderr",
     "output_type": "stream",
     "text": [
      "/usr/local/lib/python3.6/dist-packages/sklearn/preprocessing/data.py:645: DataConversionWarning: Data with input dtype int64 were all converted to float64 by StandardScaler.\n",
      "  return self.partial_fit(X, y)\n"
     ]
    },
    {
     "data": {
      "text/plain": [
       "StandardScaler(copy=True, with_mean=True, with_std=True)"
      ]
     },
     "execution_count": 40,
     "metadata": {},
     "output_type": "execute_result"
    }
   ],
   "source": [
    "from sklearn.preprocessing import StandardScaler\n",
    "\n",
    "scaler = StandardScaler()\n",
    "scaler.fit(df_final)"
   ]
  },
  {
   "cell_type": "markdown",
   "metadata": {},
   "source": [
    "## Linear Regression"
   ]
  },
  {
   "cell_type": "code",
   "execution_count": 41,
   "metadata": {},
   "outputs": [],
   "source": [
    "from sklearn.linear_model import LinearRegression\n",
    "from sklearn.model_selection import train_test_split\n",
    "\n",
    "X=df_final.drop('TweetRetweetCount',axis=1)\n",
    "Y= df_final.TweetRetweetCount\n",
    "\n",
    "X_train, X_test, y_train, y_test = train_test_split(X, Y, test_size=0.3)"
   ]
  },
  {
   "cell_type": "code",
   "execution_count": 42,
   "metadata": {},
   "outputs": [],
   "source": [
    "lr=LinearRegression()\n",
    "lr.fit(X_train,y_train)\n",
    "y_pred0=lr.predict(X_test)"
   ]
  },
  {
   "cell_type": "code",
   "execution_count": 43,
   "metadata": {},
   "outputs": [],
   "source": [
    "from sklearn.metrics import r2_score\n",
    "from sklearn.metrics import mean_squared_error\n",
    "from sklearn.metrics import mean_absolute_error"
   ]
  },
  {
   "cell_type": "code",
   "execution_count": 44,
   "metadata": {},
   "outputs": [
    {
     "data": {
      "text/plain": [
       "903.4677647577286"
      ]
     },
     "execution_count": 44,
     "metadata": {},
     "output_type": "execute_result"
    }
   ],
   "source": [
    "np.sqrt(mean_squared_error(y_test, y_pred0))"
   ]
  },
  {
   "cell_type": "code",
   "execution_count": 45,
   "metadata": {},
   "outputs": [
    {
     "data": {
      "text/plain": [
       "767.3091419951367"
      ]
     },
     "execution_count": 45,
     "metadata": {},
     "output_type": "execute_result"
    }
   ],
   "source": [
    "mean_absolute_error(y_test, y_pred0)"
   ]
  },
  {
   "cell_type": "code",
   "execution_count": 47,
   "metadata": {},
   "outputs": [
    {
     "data": {
      "text/plain": [
       "0.6027139966413005"
      ]
     },
     "execution_count": 47,
     "metadata": {},
     "output_type": "execute_result"
    }
   ],
   "source": [
    "r2_score(y_test,y_pred0)"
   ]
  },
  {
   "cell_type": "markdown",
   "metadata": {},
   "source": [
    "#### Accuracy for linear regression model 60.67% which is good for this dataset"
   ]
  },
  {
   "cell_type": "markdown",
   "metadata": {},
   "source": [
    "## Support Vector Regression"
   ]
  },
  {
   "cell_type": "code",
   "execution_count": 48,
   "metadata": {},
   "outputs": [],
   "source": [
    "from sklearn.svm import SVR"
   ]
  },
  {
   "cell_type": "code",
   "execution_count": 49,
   "metadata": {},
   "outputs": [
    {
     "name": "stderr",
     "output_type": "stream",
     "text": [
      "/usr/local/lib/python3.6/dist-packages/sklearn/svm/base.py:196: FutureWarning: The default value of gamma will change from 'auto' to 'scale' in version 0.22 to account better for unscaled features. Set gamma explicitly to 'auto' or 'scale' to avoid this warning.\n",
      "  \"avoid this warning.\", FutureWarning)\n"
     ]
    },
    {
     "data": {
      "text/plain": [
       "SVR(C=1.0, cache_size=200, coef0=0.0, degree=3, epsilon=0.1,\n",
       "  gamma='auto_deprecated', kernel='rbf', max_iter=-1, shrinking=True,\n",
       "  tol=0.001, verbose=False)"
      ]
     },
     "execution_count": 49,
     "metadata": {},
     "output_type": "execute_result"
    }
   ],
   "source": [
    "clf = SVR(kernel='rbf')\n",
    "clf.fit(X_train, y_train)"
   ]
  },
  {
   "cell_type": "code",
   "execution_count": 50,
   "metadata": {},
   "outputs": [],
   "source": [
    "y1_pred=clf.predict(X_test)"
   ]
  },
  {
   "cell_type": "code",
   "execution_count": 51,
   "metadata": {},
   "outputs": [
    {
     "data": {
      "text/plain": [
       "1784.2562606646718"
      ]
     },
     "execution_count": 51,
     "metadata": {},
     "output_type": "execute_result"
    }
   ],
   "source": [
    "np.sqrt(mean_squared_error(y_test, y1_pred))"
   ]
  },
  {
   "cell_type": "code",
   "execution_count": 52,
   "metadata": {},
   "outputs": [
    {
     "data": {
      "text/plain": [
       "1076.2329795356131"
      ]
     },
     "execution_count": 52,
     "metadata": {},
     "output_type": "execute_result"
    }
   ],
   "source": [
    "mean_absolute_error(y_test, y1_pred)"
   ]
  },
  {
   "cell_type": "code",
   "execution_count": 53,
   "metadata": {},
   "outputs": [
    {
     "data": {
      "text/plain": [
       "-0.5495029232004438"
      ]
     },
     "execution_count": 53,
     "metadata": {},
     "output_type": "execute_result"
    }
   ],
   "source": [
    "r2_score(y_test,y1_pred)"
   ]
  },
  {
   "cell_type": "markdown",
   "metadata": {},
   "source": [
    "#### support vector regression gets negative R2 value , R2 is negative only when the chosen model does not follow the trend of the data, so fits worse than a horizontal line"
   ]
  },
  {
   "cell_type": "markdown",
   "metadata": {},
   "source": [
    "## Random Forest Regression"
   ]
  },
  {
   "cell_type": "code",
   "execution_count": 54,
   "metadata": {},
   "outputs": [],
   "source": [
    "from sklearn.ensemble import RandomForestRegressor"
   ]
  },
  {
   "cell_type": "code",
   "execution_count": 55,
   "metadata": {},
   "outputs": [
    {
     "name": "stderr",
     "output_type": "stream",
     "text": [
      "/usr/local/lib/python3.6/dist-packages/sklearn/ensemble/forest.py:246: FutureWarning: The default value of n_estimators will change from 10 in version 0.20 to 100 in 0.22.\n",
      "  \"10 in version 0.20 to 100 in 0.22.\", FutureWarning)\n"
     ]
    },
    {
     "data": {
      "text/plain": [
       "RandomForestRegressor(bootstrap=True, criterion='mse', max_depth=None,\n",
       "           max_features='auto', max_leaf_nodes=None,\n",
       "           min_impurity_decrease=0.0, min_impurity_split=None,\n",
       "           min_samples_leaf=1, min_samples_split=2,\n",
       "           min_weight_fraction_leaf=0.0, n_estimators=10, n_jobs=None,\n",
       "           oob_score=False, random_state=None, verbose=0, warm_start=False)"
      ]
     },
     "execution_count": 55,
     "metadata": {},
     "output_type": "execute_result"
    }
   ],
   "source": [
    "rf = RandomForestRegressor()\n",
    "rf.fit(X_train, y_train)"
   ]
  },
  {
   "cell_type": "code",
   "execution_count": 56,
   "metadata": {},
   "outputs": [],
   "source": [
    "y2_pred=rf.predict(X_test)"
   ]
  },
  {
   "cell_type": "code",
   "execution_count": 57,
   "metadata": {},
   "outputs": [
    {
     "data": {
      "text/plain": [
       "129.34489477253018"
      ]
     },
     "execution_count": 57,
     "metadata": {},
     "output_type": "execute_result"
    }
   ],
   "source": [
    "np.sqrt(mean_squared_error(y_test, y2_pred))"
   ]
  },
  {
   "cell_type": "code",
   "execution_count": 58,
   "metadata": {},
   "outputs": [
    {
     "data": {
      "text/plain": [
       "18.831400238554544"
      ]
     },
     "execution_count": 58,
     "metadata": {},
     "output_type": "execute_result"
    }
   ],
   "source": [
    "mean_absolute_error(y_test, y2_pred)"
   ]
  },
  {
   "cell_type": "code",
   "execution_count": 59,
   "metadata": {},
   "outputs": [
    {
     "data": {
      "text/plain": [
       "0.9918571483074474"
      ]
     },
     "execution_count": 59,
     "metadata": {},
     "output_type": "execute_result"
    }
   ],
   "source": [
    "r2_score(y_test,y2_pred)"
   ]
  },
  {
   "cell_type": "markdown",
   "metadata": {},
   "source": [
    "#### Random forest regression gives 99.20% accuracy "
   ]
  },
  {
   "cell_type": "code",
   "execution_count": 60,
   "metadata": {
    "scrolled": true
   },
   "outputs": [
    {
     "name": "stdout",
     "output_type": "stream",
     "text": [
      "Actual vs Predicted using Random Forest\n"
     ]
    },
    {
     "data": {
      "text/html": [
       "<div>\n",
       "<style scoped>\n",
       "    .dataframe tbody tr th:only-of-type {\n",
       "        vertical-align: middle;\n",
       "    }\n",
       "\n",
       "    .dataframe tbody tr th {\n",
       "        vertical-align: top;\n",
       "    }\n",
       "\n",
       "    .dataframe thead th {\n",
       "        text-align: right;\n",
       "    }\n",
       "</style>\n",
       "<table border=\"1\" class=\"dataframe\">\n",
       "  <thead>\n",
       "    <tr style=\"text-align: right;\">\n",
       "      <th></th>\n",
       "      <th>Predicted Retweet</th>\n",
       "      <th>Actual Retweets</th>\n",
       "    </tr>\n",
       "  </thead>\n",
       "  <tbody>\n",
       "    <tr>\n",
       "      <th>18826</th>\n",
       "      <td>0.000000</td>\n",
       "      <td>0</td>\n",
       "    </tr>\n",
       "    <tr>\n",
       "      <th>37862</th>\n",
       "      <td>3086.000000</td>\n",
       "      <td>3086</td>\n",
       "    </tr>\n",
       "    <tr>\n",
       "      <th>16605</th>\n",
       "      <td>3241.000000</td>\n",
       "      <td>3241</td>\n",
       "    </tr>\n",
       "    <tr>\n",
       "      <th>37329</th>\n",
       "      <td>3086.000000</td>\n",
       "      <td>3086</td>\n",
       "    </tr>\n",
       "    <tr>\n",
       "      <th>31940</th>\n",
       "      <td>0.000000</td>\n",
       "      <td>0</td>\n",
       "    </tr>\n",
       "    <tr>\n",
       "      <th>23640</th>\n",
       "      <td>0.000000</td>\n",
       "      <td>0</td>\n",
       "    </tr>\n",
       "    <tr>\n",
       "      <th>35352</th>\n",
       "      <td>34.300000</td>\n",
       "      <td>3</td>\n",
       "    </tr>\n",
       "    <tr>\n",
       "      <th>27762</th>\n",
       "      <td>1536.000000</td>\n",
       "      <td>1536</td>\n",
       "    </tr>\n",
       "    <tr>\n",
       "      <th>26123</th>\n",
       "      <td>3309.000000</td>\n",
       "      <td>3309</td>\n",
       "    </tr>\n",
       "    <tr>\n",
       "      <th>40061</th>\n",
       "      <td>3086.000000</td>\n",
       "      <td>3086</td>\n",
       "    </tr>\n",
       "    <tr>\n",
       "      <th>20466</th>\n",
       "      <td>0.000000</td>\n",
       "      <td>1</td>\n",
       "    </tr>\n",
       "    <tr>\n",
       "      <th>28382</th>\n",
       "      <td>3055.900000</td>\n",
       "      <td>3086</td>\n",
       "    </tr>\n",
       "    <tr>\n",
       "      <th>32710</th>\n",
       "      <td>0.000000</td>\n",
       "      <td>0</td>\n",
       "    </tr>\n",
       "    <tr>\n",
       "      <th>39801</th>\n",
       "      <td>3086.000000</td>\n",
       "      <td>3086</td>\n",
       "    </tr>\n",
       "    <tr>\n",
       "      <th>35577</th>\n",
       "      <td>0.000000</td>\n",
       "      <td>0</td>\n",
       "    </tr>\n",
       "    <tr>\n",
       "      <th>22514</th>\n",
       "      <td>0.200000</td>\n",
       "      <td>0</td>\n",
       "    </tr>\n",
       "    <tr>\n",
       "      <th>40927</th>\n",
       "      <td>6.733333</td>\n",
       "      <td>3</td>\n",
       "    </tr>\n",
       "    <tr>\n",
       "      <th>31480</th>\n",
       "      <td>0.300000</td>\n",
       "      <td>0</td>\n",
       "    </tr>\n",
       "    <tr>\n",
       "      <th>23401</th>\n",
       "      <td>21.300000</td>\n",
       "      <td>7</td>\n",
       "    </tr>\n",
       "    <tr>\n",
       "      <th>1262</th>\n",
       "      <td>20.500000</td>\n",
       "      <td>15</td>\n",
       "    </tr>\n",
       "    <tr>\n",
       "      <th>33365</th>\n",
       "      <td>0.000000</td>\n",
       "      <td>0</td>\n",
       "    </tr>\n",
       "    <tr>\n",
       "      <th>18655</th>\n",
       "      <td>9.200000</td>\n",
       "      <td>10</td>\n",
       "    </tr>\n",
       "    <tr>\n",
       "      <th>41493</th>\n",
       "      <td>27.300000</td>\n",
       "      <td>112</td>\n",
       "    </tr>\n",
       "    <tr>\n",
       "      <th>14870</th>\n",
       "      <td>3241.000000</td>\n",
       "      <td>3241</td>\n",
       "    </tr>\n",
       "    <tr>\n",
       "      <th>31957</th>\n",
       "      <td>3051.600000</td>\n",
       "      <td>3086</td>\n",
       "    </tr>\n",
       "    <tr>\n",
       "      <th>31529</th>\n",
       "      <td>0.000000</td>\n",
       "      <td>0</td>\n",
       "    </tr>\n",
       "    <tr>\n",
       "      <th>27053</th>\n",
       "      <td>3309.000000</td>\n",
       "      <td>3309</td>\n",
       "    </tr>\n",
       "    <tr>\n",
       "      <th>38110</th>\n",
       "      <td>3086.000000</td>\n",
       "      <td>3086</td>\n",
       "    </tr>\n",
       "    <tr>\n",
       "      <th>32035</th>\n",
       "      <td>0.000000</td>\n",
       "      <td>0</td>\n",
       "    </tr>\n",
       "    <tr>\n",
       "      <th>35800</th>\n",
       "      <td>0.000000</td>\n",
       "      <td>0</td>\n",
       "    </tr>\n",
       "    <tr>\n",
       "      <th>...</th>\n",
       "      <td>...</td>\n",
       "      <td>...</td>\n",
       "    </tr>\n",
       "    <tr>\n",
       "      <th>40211</th>\n",
       "      <td>3086.000000</td>\n",
       "      <td>3086</td>\n",
       "    </tr>\n",
       "    <tr>\n",
       "      <th>25589</th>\n",
       "      <td>0.000000</td>\n",
       "      <td>0</td>\n",
       "    </tr>\n",
       "    <tr>\n",
       "      <th>16667</th>\n",
       "      <td>3241.000000</td>\n",
       "      <td>3241</td>\n",
       "    </tr>\n",
       "    <tr>\n",
       "      <th>24356</th>\n",
       "      <td>0.000000</td>\n",
       "      <td>0</td>\n",
       "    </tr>\n",
       "    <tr>\n",
       "      <th>4999</th>\n",
       "      <td>0.400000</td>\n",
       "      <td>0</td>\n",
       "    </tr>\n",
       "    <tr>\n",
       "      <th>23840</th>\n",
       "      <td>502.000000</td>\n",
       "      <td>502</td>\n",
       "    </tr>\n",
       "    <tr>\n",
       "      <th>36850</th>\n",
       "      <td>0.000000</td>\n",
       "      <td>0</td>\n",
       "    </tr>\n",
       "    <tr>\n",
       "      <th>708</th>\n",
       "      <td>0.900000</td>\n",
       "      <td>0</td>\n",
       "    </tr>\n",
       "    <tr>\n",
       "      <th>35056</th>\n",
       "      <td>0.000000</td>\n",
       "      <td>0</td>\n",
       "    </tr>\n",
       "    <tr>\n",
       "      <th>25453</th>\n",
       "      <td>0.000000</td>\n",
       "      <td>0</td>\n",
       "    </tr>\n",
       "    <tr>\n",
       "      <th>27479</th>\n",
       "      <td>1536.000000</td>\n",
       "      <td>1536</td>\n",
       "    </tr>\n",
       "    <tr>\n",
       "      <th>14798</th>\n",
       "      <td>3241.000000</td>\n",
       "      <td>3241</td>\n",
       "    </tr>\n",
       "    <tr>\n",
       "      <th>26361</th>\n",
       "      <td>3309.000000</td>\n",
       "      <td>3309</td>\n",
       "    </tr>\n",
       "    <tr>\n",
       "      <th>13225</th>\n",
       "      <td>3069.000000</td>\n",
       "      <td>3069</td>\n",
       "    </tr>\n",
       "    <tr>\n",
       "      <th>38774</th>\n",
       "      <td>3086.000000</td>\n",
       "      <td>3086</td>\n",
       "    </tr>\n",
       "    <tr>\n",
       "      <th>24004</th>\n",
       "      <td>502.000000</td>\n",
       "      <td>502</td>\n",
       "    </tr>\n",
       "    <tr>\n",
       "      <th>27014</th>\n",
       "      <td>3286.700000</td>\n",
       "      <td>3309</td>\n",
       "    </tr>\n",
       "    <tr>\n",
       "      <th>40615</th>\n",
       "      <td>0.000000</td>\n",
       "      <td>0</td>\n",
       "    </tr>\n",
       "    <tr>\n",
       "      <th>921</th>\n",
       "      <td>0.300000</td>\n",
       "      <td>0</td>\n",
       "    </tr>\n",
       "    <tr>\n",
       "      <th>21348</th>\n",
       "      <td>3180.000000</td>\n",
       "      <td>3180</td>\n",
       "    </tr>\n",
       "    <tr>\n",
       "      <th>40448</th>\n",
       "      <td>0.500000</td>\n",
       "      <td>1</td>\n",
       "    </tr>\n",
       "    <tr>\n",
       "      <th>21466</th>\n",
       "      <td>3180.000000</td>\n",
       "      <td>3180</td>\n",
       "    </tr>\n",
       "    <tr>\n",
       "      <th>39294</th>\n",
       "      <td>3086.000000</td>\n",
       "      <td>3086</td>\n",
       "    </tr>\n",
       "    <tr>\n",
       "      <th>11613</th>\n",
       "      <td>0.000000</td>\n",
       "      <td>0</td>\n",
       "    </tr>\n",
       "    <tr>\n",
       "      <th>15867</th>\n",
       "      <td>3241.000000</td>\n",
       "      <td>3241</td>\n",
       "    </tr>\n",
       "    <tr>\n",
       "      <th>20128</th>\n",
       "      <td>0.000000</td>\n",
       "      <td>0</td>\n",
       "    </tr>\n",
       "    <tr>\n",
       "      <th>39960</th>\n",
       "      <td>3086.000000</td>\n",
       "      <td>3086</td>\n",
       "    </tr>\n",
       "    <tr>\n",
       "      <th>39993</th>\n",
       "      <td>3086.000000</td>\n",
       "      <td>3086</td>\n",
       "    </tr>\n",
       "    <tr>\n",
       "      <th>6401</th>\n",
       "      <td>0.000000</td>\n",
       "      <td>0</td>\n",
       "    </tr>\n",
       "    <tr>\n",
       "      <th>38147</th>\n",
       "      <td>3086.000000</td>\n",
       "      <td>3086</td>\n",
       "    </tr>\n",
       "  </tbody>\n",
       "</table>\n",
       "<p>12711 rows × 2 columns</p>\n",
       "</div>"
      ],
      "text/plain": [
       "       Predicted Retweet  Actual Retweets\n",
       "18826           0.000000                0\n",
       "37862        3086.000000             3086\n",
       "16605        3241.000000             3241\n",
       "37329        3086.000000             3086\n",
       "31940           0.000000                0\n",
       "23640           0.000000                0\n",
       "35352          34.300000                3\n",
       "27762        1536.000000             1536\n",
       "26123        3309.000000             3309\n",
       "40061        3086.000000             3086\n",
       "20466           0.000000                1\n",
       "28382        3055.900000             3086\n",
       "32710           0.000000                0\n",
       "39801        3086.000000             3086\n",
       "35577           0.000000                0\n",
       "22514           0.200000                0\n",
       "40927           6.733333                3\n",
       "31480           0.300000                0\n",
       "23401          21.300000                7\n",
       "1262           20.500000               15\n",
       "33365           0.000000                0\n",
       "18655           9.200000               10\n",
       "41493          27.300000              112\n",
       "14870        3241.000000             3241\n",
       "31957        3051.600000             3086\n",
       "31529           0.000000                0\n",
       "27053        3309.000000             3309\n",
       "38110        3086.000000             3086\n",
       "32035           0.000000                0\n",
       "35800           0.000000                0\n",
       "...                  ...              ...\n",
       "40211        3086.000000             3086\n",
       "25589           0.000000                0\n",
       "16667        3241.000000             3241\n",
       "24356           0.000000                0\n",
       "4999            0.400000                0\n",
       "23840         502.000000              502\n",
       "36850           0.000000                0\n",
       "708             0.900000                0\n",
       "35056           0.000000                0\n",
       "25453           0.000000                0\n",
       "27479        1536.000000             1536\n",
       "14798        3241.000000             3241\n",
       "26361        3309.000000             3309\n",
       "13225        3069.000000             3069\n",
       "38774        3086.000000             3086\n",
       "24004         502.000000              502\n",
       "27014        3286.700000             3309\n",
       "40615           0.000000                0\n",
       "921             0.300000                0\n",
       "21348        3180.000000             3180\n",
       "40448           0.500000                1\n",
       "21466        3180.000000             3180\n",
       "39294        3086.000000             3086\n",
       "11613           0.000000                0\n",
       "15867        3241.000000             3241\n",
       "20128           0.000000                0\n",
       "39960        3086.000000             3086\n",
       "39993        3086.000000             3086\n",
       "6401            0.000000                0\n",
       "38147        3086.000000             3086\n",
       "\n",
       "[12711 rows x 2 columns]"
      ]
     },
     "execution_count": 60,
     "metadata": {},
     "output_type": "execute_result"
    }
   ],
   "source": [
    "print(\"Actual vs Predicted using Random Forest\")\n",
    "pd.DataFrame({'Predicted Retweet':y2_pred,'Actual Retweets':y_test})"
   ]
  },
  {
   "cell_type": "markdown",
   "metadata": {},
   "source": [
    "## Polynomial Regression"
   ]
  },
  {
   "cell_type": "code",
   "execution_count": 61,
   "metadata": {},
   "outputs": [],
   "source": [
    "from sklearn.preprocessing import PolynomialFeatures\n",
    "\n",
    "poly = PolynomialFeatures(2, interaction_only=True)\n",
    "output_nparray = poly.fit_transform(df_final)\n",
    "output_df = pd.DataFrame(output_nparray)\n",
    "\n",
    "X1=output_df"
   ]
  },
  {
   "cell_type": "code",
   "execution_count": 62,
   "metadata": {},
   "outputs": [
    {
     "data": {
      "text/plain": [
       "LinearRegression(copy_X=True, fit_intercept=True, n_jobs=None,\n",
       "         normalize=False)"
      ]
     },
     "execution_count": 62,
     "metadata": {},
     "output_type": "execute_result"
    }
   ],
   "source": [
    "X1_train, X1_test, y1_train, y1_test = train_test_split(X1, Y, test_size=0.3)\n",
    "lr1=LinearRegression()\n",
    "lr1.fit(X1_train,y1_train)"
   ]
  },
  {
   "cell_type": "code",
   "execution_count": 63,
   "metadata": {},
   "outputs": [],
   "source": [
    "y3_pred=lr1.predict(X1_test)"
   ]
  },
  {
   "cell_type": "code",
   "execution_count": 64,
   "metadata": {},
   "outputs": [
    {
     "data": {
      "text/plain": [
       "1.9955709782944375e-07"
      ]
     },
     "execution_count": 64,
     "metadata": {},
     "output_type": "execute_result"
    }
   ],
   "source": [
    "np.sqrt(mean_squared_error(y1_test, y3_pred))"
   ]
  },
  {
   "cell_type": "code",
   "execution_count": 65,
   "metadata": {},
   "outputs": [
    {
     "data": {
      "text/plain": [
       "1.4382075292054517e-08"
      ]
     },
     "execution_count": 65,
     "metadata": {},
     "output_type": "execute_result"
    }
   ],
   "source": [
    "mean_absolute_error(y1_test, y3_pred)"
   ]
  },
  {
   "cell_type": "code",
   "execution_count": 66,
   "metadata": {},
   "outputs": [
    {
     "data": {
      "text/plain": [
       "1.0"
      ]
     },
     "execution_count": 66,
     "metadata": {},
     "output_type": "execute_result"
    }
   ],
   "source": [
    "r2_score(y1_test,y3_pred)"
   ]
  },
  {
   "cell_type": "markdown",
   "metadata": {},
   "source": [
    "## Polynomial Regression model gives 100% accuracy!!"
   ]
  },
  {
   "cell_type": "code",
   "execution_count": 67,
   "metadata": {
    "scrolled": true
   },
   "outputs": [
    {
     "name": "stdout",
     "output_type": "stream",
     "text": [
      "Actual vs Predicted using Random Forest\n"
     ]
    },
    {
     "data": {
      "text/html": [
       "<div>\n",
       "<style scoped>\n",
       "    .dataframe tbody tr th:only-of-type {\n",
       "        vertical-align: middle;\n",
       "    }\n",
       "\n",
       "    .dataframe tbody tr th {\n",
       "        vertical-align: top;\n",
       "    }\n",
       "\n",
       "    .dataframe thead th {\n",
       "        text-align: right;\n",
       "    }\n",
       "</style>\n",
       "<table border=\"1\" class=\"dataframe\">\n",
       "  <thead>\n",
       "    <tr style=\"text-align: right;\">\n",
       "      <th></th>\n",
       "      <th>Predicted Retweet</th>\n",
       "      <th>Actual Retweets</th>\n",
       "    </tr>\n",
       "  </thead>\n",
       "  <tbody>\n",
       "    <tr>\n",
       "      <th>21852</th>\n",
       "      <td>3.180000e+03</td>\n",
       "      <td>3180</td>\n",
       "    </tr>\n",
       "    <tr>\n",
       "      <th>35112</th>\n",
       "      <td>2.200000e+01</td>\n",
       "      <td>22</td>\n",
       "    </tr>\n",
       "    <tr>\n",
       "      <th>28089</th>\n",
       "      <td>1.536000e+03</td>\n",
       "      <td>1536</td>\n",
       "    </tr>\n",
       "    <tr>\n",
       "      <th>19236</th>\n",
       "      <td>1.300000e+01</td>\n",
       "      <td>13</td>\n",
       "    </tr>\n",
       "    <tr>\n",
       "      <th>418</th>\n",
       "      <td>5.664275e-10</td>\n",
       "      <td>0</td>\n",
       "    </tr>\n",
       "    <tr>\n",
       "      <th>33222</th>\n",
       "      <td>1.478930e-08</td>\n",
       "      <td>0</td>\n",
       "    </tr>\n",
       "    <tr>\n",
       "      <th>5757</th>\n",
       "      <td>1.000000e+00</td>\n",
       "      <td>1</td>\n",
       "    </tr>\n",
       "    <tr>\n",
       "      <th>25265</th>\n",
       "      <td>1.110000e+02</td>\n",
       "      <td>111</td>\n",
       "    </tr>\n",
       "    <tr>\n",
       "      <th>2282</th>\n",
       "      <td>2.223854e-08</td>\n",
       "      <td>0</td>\n",
       "    </tr>\n",
       "    <tr>\n",
       "      <th>22991</th>\n",
       "      <td>1.100000e+01</td>\n",
       "      <td>11</td>\n",
       "    </tr>\n",
       "    <tr>\n",
       "      <th>40964</th>\n",
       "      <td>2.000000e+00</td>\n",
       "      <td>2</td>\n",
       "    </tr>\n",
       "    <tr>\n",
       "      <th>38515</th>\n",
       "      <td>3.086000e+03</td>\n",
       "      <td>3086</td>\n",
       "    </tr>\n",
       "    <tr>\n",
       "      <th>21622</th>\n",
       "      <td>3.180000e+03</td>\n",
       "      <td>3180</td>\n",
       "    </tr>\n",
       "    <tr>\n",
       "      <th>19156</th>\n",
       "      <td>2.775180e-09</td>\n",
       "      <td>0</td>\n",
       "    </tr>\n",
       "    <tr>\n",
       "      <th>28292</th>\n",
       "      <td>1.536000e+03</td>\n",
       "      <td>1536</td>\n",
       "    </tr>\n",
       "    <tr>\n",
       "      <th>9738</th>\n",
       "      <td>1.498775e-08</td>\n",
       "      <td>0</td>\n",
       "    </tr>\n",
       "    <tr>\n",
       "      <th>9832</th>\n",
       "      <td>-6.362881e-09</td>\n",
       "      <td>0</td>\n",
       "    </tr>\n",
       "    <tr>\n",
       "      <th>23182</th>\n",
       "      <td>1.200000e+01</td>\n",
       "      <td>12</td>\n",
       "    </tr>\n",
       "    <tr>\n",
       "      <th>29917</th>\n",
       "      <td>3.228000e+03</td>\n",
       "      <td>3228</td>\n",
       "    </tr>\n",
       "    <tr>\n",
       "      <th>5991</th>\n",
       "      <td>-8.495629e-10</td>\n",
       "      <td>0</td>\n",
       "    </tr>\n",
       "    <tr>\n",
       "      <th>4135</th>\n",
       "      <td>-5.029400e-09</td>\n",
       "      <td>0</td>\n",
       "    </tr>\n",
       "    <tr>\n",
       "      <th>26189</th>\n",
       "      <td>3.309000e+03</td>\n",
       "      <td>3309</td>\n",
       "    </tr>\n",
       "    <tr>\n",
       "      <th>25921</th>\n",
       "      <td>3.309000e+03</td>\n",
       "      <td>3309</td>\n",
       "    </tr>\n",
       "    <tr>\n",
       "      <th>28671</th>\n",
       "      <td>1.536000e+03</td>\n",
       "      <td>1536</td>\n",
       "    </tr>\n",
       "    <tr>\n",
       "      <th>3088</th>\n",
       "      <td>3.100000e+01</td>\n",
       "      <td>31</td>\n",
       "    </tr>\n",
       "    <tr>\n",
       "      <th>38637</th>\n",
       "      <td>3.086000e+03</td>\n",
       "      <td>3086</td>\n",
       "    </tr>\n",
       "    <tr>\n",
       "      <th>38722</th>\n",
       "      <td>3.086000e+03</td>\n",
       "      <td>3086</td>\n",
       "    </tr>\n",
       "    <tr>\n",
       "      <th>29188</th>\n",
       "      <td>1.536000e+03</td>\n",
       "      <td>1536</td>\n",
       "    </tr>\n",
       "    <tr>\n",
       "      <th>10910</th>\n",
       "      <td>1.000000e+00</td>\n",
       "      <td>1</td>\n",
       "    </tr>\n",
       "    <tr>\n",
       "      <th>22684</th>\n",
       "      <td>8.018906e-09</td>\n",
       "      <td>0</td>\n",
       "    </tr>\n",
       "    <tr>\n",
       "      <th>...</th>\n",
       "      <td>...</td>\n",
       "      <td>...</td>\n",
       "    </tr>\n",
       "    <tr>\n",
       "      <th>37202</th>\n",
       "      <td>1.054918e-08</td>\n",
       "      <td>0</td>\n",
       "    </tr>\n",
       "    <tr>\n",
       "      <th>7277</th>\n",
       "      <td>7.430000e+02</td>\n",
       "      <td>743</td>\n",
       "    </tr>\n",
       "    <tr>\n",
       "      <th>14816</th>\n",
       "      <td>3.241000e+03</td>\n",
       "      <td>3241</td>\n",
       "    </tr>\n",
       "    <tr>\n",
       "      <th>30034</th>\n",
       "      <td>3.228000e+03</td>\n",
       "      <td>3228</td>\n",
       "    </tr>\n",
       "    <tr>\n",
       "      <th>2239</th>\n",
       "      <td>2.186115e-08</td>\n",
       "      <td>0</td>\n",
       "    </tr>\n",
       "    <tr>\n",
       "      <th>23993</th>\n",
       "      <td>5.020000e+02</td>\n",
       "      <td>502</td>\n",
       "    </tr>\n",
       "    <tr>\n",
       "      <th>15176</th>\n",
       "      <td>3.241000e+03</td>\n",
       "      <td>3241</td>\n",
       "    </tr>\n",
       "    <tr>\n",
       "      <th>12492</th>\n",
       "      <td>3.069000e+03</td>\n",
       "      <td>3069</td>\n",
       "    </tr>\n",
       "    <tr>\n",
       "      <th>29603</th>\n",
       "      <td>-1.434000e-08</td>\n",
       "      <td>0</td>\n",
       "    </tr>\n",
       "    <tr>\n",
       "      <th>8368</th>\n",
       "      <td>3.210000e+02</td>\n",
       "      <td>321</td>\n",
       "    </tr>\n",
       "    <tr>\n",
       "      <th>24331</th>\n",
       "      <td>-1.193474e-09</td>\n",
       "      <td>0</td>\n",
       "    </tr>\n",
       "    <tr>\n",
       "      <th>7109</th>\n",
       "      <td>7.430000e+02</td>\n",
       "      <td>743</td>\n",
       "    </tr>\n",
       "    <tr>\n",
       "      <th>40128</th>\n",
       "      <td>3.086000e+03</td>\n",
       "      <td>3086</td>\n",
       "    </tr>\n",
       "    <tr>\n",
       "      <th>3034</th>\n",
       "      <td>6.377350e-09</td>\n",
       "      <td>0</td>\n",
       "    </tr>\n",
       "    <tr>\n",
       "      <th>16603</th>\n",
       "      <td>3.241000e+03</td>\n",
       "      <td>3241</td>\n",
       "    </tr>\n",
       "    <tr>\n",
       "      <th>32853</th>\n",
       "      <td>3.000000e+00</td>\n",
       "      <td>3</td>\n",
       "    </tr>\n",
       "    <tr>\n",
       "      <th>5875</th>\n",
       "      <td>2.646758e-08</td>\n",
       "      <td>0</td>\n",
       "    </tr>\n",
       "    <tr>\n",
       "      <th>33169</th>\n",
       "      <td>1.743917e-09</td>\n",
       "      <td>0</td>\n",
       "    </tr>\n",
       "    <tr>\n",
       "      <th>32755</th>\n",
       "      <td>1.000000e+00</td>\n",
       "      <td>1</td>\n",
       "    </tr>\n",
       "    <tr>\n",
       "      <th>12322</th>\n",
       "      <td>3.069000e+03</td>\n",
       "      <td>3069</td>\n",
       "    </tr>\n",
       "    <tr>\n",
       "      <th>17258</th>\n",
       "      <td>3.241000e+03</td>\n",
       "      <td>3241</td>\n",
       "    </tr>\n",
       "    <tr>\n",
       "      <th>39300</th>\n",
       "      <td>3.086000e+03</td>\n",
       "      <td>3086</td>\n",
       "    </tr>\n",
       "    <tr>\n",
       "      <th>14880</th>\n",
       "      <td>3.241000e+03</td>\n",
       "      <td>3241</td>\n",
       "    </tr>\n",
       "    <tr>\n",
       "      <th>14295</th>\n",
       "      <td>4.205457e-08</td>\n",
       "      <td>0</td>\n",
       "    </tr>\n",
       "    <tr>\n",
       "      <th>21232</th>\n",
       "      <td>3.180000e+03</td>\n",
       "      <td>3180</td>\n",
       "    </tr>\n",
       "    <tr>\n",
       "      <th>28854</th>\n",
       "      <td>-7.708965e-09</td>\n",
       "      <td>0</td>\n",
       "    </tr>\n",
       "    <tr>\n",
       "      <th>11689</th>\n",
       "      <td>5.700000e+01</td>\n",
       "      <td>57</td>\n",
       "    </tr>\n",
       "    <tr>\n",
       "      <th>31192</th>\n",
       "      <td>3.599906e-09</td>\n",
       "      <td>0</td>\n",
       "    </tr>\n",
       "    <tr>\n",
       "      <th>28387</th>\n",
       "      <td>4.276578e-08</td>\n",
       "      <td>0</td>\n",
       "    </tr>\n",
       "    <tr>\n",
       "      <th>23238</th>\n",
       "      <td>5.000000e+00</td>\n",
       "      <td>5</td>\n",
       "    </tr>\n",
       "  </tbody>\n",
       "</table>\n",
       "<p>12711 rows × 2 columns</p>\n",
       "</div>"
      ],
      "text/plain": [
       "       Predicted Retweet  Actual Retweets\n",
       "21852       3.180000e+03             3180\n",
       "35112       2.200000e+01               22\n",
       "28089       1.536000e+03             1536\n",
       "19236       1.300000e+01               13\n",
       "418         5.664275e-10                0\n",
       "33222       1.478930e-08                0\n",
       "5757        1.000000e+00                1\n",
       "25265       1.110000e+02              111\n",
       "2282        2.223854e-08                0\n",
       "22991       1.100000e+01               11\n",
       "40964       2.000000e+00                2\n",
       "38515       3.086000e+03             3086\n",
       "21622       3.180000e+03             3180\n",
       "19156       2.775180e-09                0\n",
       "28292       1.536000e+03             1536\n",
       "9738        1.498775e-08                0\n",
       "9832       -6.362881e-09                0\n",
       "23182       1.200000e+01               12\n",
       "29917       3.228000e+03             3228\n",
       "5991       -8.495629e-10                0\n",
       "4135       -5.029400e-09                0\n",
       "26189       3.309000e+03             3309\n",
       "25921       3.309000e+03             3309\n",
       "28671       1.536000e+03             1536\n",
       "3088        3.100000e+01               31\n",
       "38637       3.086000e+03             3086\n",
       "38722       3.086000e+03             3086\n",
       "29188       1.536000e+03             1536\n",
       "10910       1.000000e+00                1\n",
       "22684       8.018906e-09                0\n",
       "...                  ...              ...\n",
       "37202       1.054918e-08                0\n",
       "7277        7.430000e+02              743\n",
       "14816       3.241000e+03             3241\n",
       "30034       3.228000e+03             3228\n",
       "2239        2.186115e-08                0\n",
       "23993       5.020000e+02              502\n",
       "15176       3.241000e+03             3241\n",
       "12492       3.069000e+03             3069\n",
       "29603      -1.434000e-08                0\n",
       "8368        3.210000e+02              321\n",
       "24331      -1.193474e-09                0\n",
       "7109        7.430000e+02              743\n",
       "40128       3.086000e+03             3086\n",
       "3034        6.377350e-09                0\n",
       "16603       3.241000e+03             3241\n",
       "32853       3.000000e+00                3\n",
       "5875        2.646758e-08                0\n",
       "33169       1.743917e-09                0\n",
       "32755       1.000000e+00                1\n",
       "12322       3.069000e+03             3069\n",
       "17258       3.241000e+03             3241\n",
       "39300       3.086000e+03             3086\n",
       "14880       3.241000e+03             3241\n",
       "14295       4.205457e-08                0\n",
       "21232       3.180000e+03             3180\n",
       "28854      -7.708965e-09                0\n",
       "11689       5.700000e+01               57\n",
       "31192       3.599906e-09                0\n",
       "28387       4.276578e-08                0\n",
       "23238       5.000000e+00                5\n",
       "\n",
       "[12711 rows x 2 columns]"
      ]
     },
     "execution_count": 67,
     "metadata": {},
     "output_type": "execute_result"
    }
   ],
   "source": [
    "print(\"Actual vs Predicted using Random Forest\")\n",
    "pd.DataFrame({'Predicted Retweet':y3_pred,'Actual Retweets':y1_test})"
   ]
  },
  {
   "cell_type": "code",
   "execution_count": 68,
   "metadata": {},
   "outputs": [
    {
     "data": {
      "text/html": [
       "<div>\n",
       "<style scoped>\n",
       "    .dataframe tbody tr th:only-of-type {\n",
       "        vertical-align: middle;\n",
       "    }\n",
       "\n",
       "    .dataframe tbody tr th {\n",
       "        vertical-align: top;\n",
       "    }\n",
       "\n",
       "    .dataframe thead th {\n",
       "        text-align: right;\n",
       "    }\n",
       "</style>\n",
       "<table border=\"1\" class=\"dataframe\">\n",
       "  <thead>\n",
       "    <tr style=\"text-align: right;\">\n",
       "      <th></th>\n",
       "      <th>RMSE</th>\n",
       "      <th>MEA</th>\n",
       "      <th>R_Square</th>\n",
       "    </tr>\n",
       "    <tr>\n",
       "      <th>Model</th>\n",
       "      <th></th>\n",
       "      <th></th>\n",
       "      <th></th>\n",
       "    </tr>\n",
       "  </thead>\n",
       "  <tbody>\n",
       "    <tr>\n",
       "      <th>Linear Regression</th>\n",
       "      <td>NA</td>\n",
       "      <td>NA</td>\n",
       "      <td>NA</td>\n",
       "    </tr>\n",
       "    <tr>\n",
       "      <th>Support Vector Regressor</th>\n",
       "      <td>NA</td>\n",
       "      <td>NA</td>\n",
       "      <td>NA</td>\n",
       "    </tr>\n",
       "    <tr>\n",
       "      <th>Random Forest Regressor</th>\n",
       "      <td>NA</td>\n",
       "      <td>NA</td>\n",
       "      <td>NA</td>\n",
       "    </tr>\n",
       "    <tr>\n",
       "      <th>Polynomial Regression</th>\n",
       "      <td>NA</td>\n",
       "      <td>NA</td>\n",
       "      <td>NA</td>\n",
       "    </tr>\n",
       "  </tbody>\n",
       "</table>\n",
       "</div>"
      ],
      "text/plain": [
       "                         RMSE MEA R_Square\n",
       "Model                                     \n",
       "Linear Regression          NA  NA       NA\n",
       "Support Vector Regressor   NA  NA       NA\n",
       "Random Forest Regressor    NA  NA       NA\n",
       "Polynomial Regression      NA  NA       NA"
      ]
     },
     "execution_count": 68,
     "metadata": {},
     "output_type": "execute_result"
    }
   ],
   "source": [
    "Eva_Mtx={'Model':['Linear Regression','Support Vector Regressor','Random Forest Regressor','Polynomial Regression' ],'RMSE':'NA','MEA':'NA','R_Square':'NA'}\n",
    "Eva_Mtx=pd.DataFrame(Eva_Mtx)\n",
    "Eva_Mtx.set_index(['Model'],inplace=True)\n",
    "Eva_Mtx"
   ]
  },
  {
   "cell_type": "code",
   "execution_count": 69,
   "metadata": {},
   "outputs": [],
   "source": [
    "yh=[lr.predict(X_test),clf.predict(X_test),rf.predict(X_test)]"
   ]
  },
  {
   "cell_type": "code",
   "execution_count": 70,
   "metadata": {
    "scrolled": true
   },
   "outputs": [
    {
     "data": {
      "text/html": [
       "<div>\n",
       "<style scoped>\n",
       "    .dataframe tbody tr th:only-of-type {\n",
       "        vertical-align: middle;\n",
       "    }\n",
       "\n",
       "    .dataframe tbody tr th {\n",
       "        vertical-align: top;\n",
       "    }\n",
       "\n",
       "    .dataframe thead th {\n",
       "        text-align: right;\n",
       "    }\n",
       "</style>\n",
       "<table border=\"1\" class=\"dataframe\">\n",
       "  <thead>\n",
       "    <tr style=\"text-align: right;\">\n",
       "      <th></th>\n",
       "      <th>RMSE</th>\n",
       "      <th>MEA</th>\n",
       "      <th>R_Square</th>\n",
       "    </tr>\n",
       "    <tr>\n",
       "      <th>Model</th>\n",
       "      <th></th>\n",
       "      <th></th>\n",
       "      <th></th>\n",
       "    </tr>\n",
       "  </thead>\n",
       "  <tbody>\n",
       "    <tr>\n",
       "      <th>Linear Regression</th>\n",
       "      <td>903.468</td>\n",
       "      <td>767.309</td>\n",
       "      <td>0.602714</td>\n",
       "    </tr>\n",
       "    <tr>\n",
       "      <th>Support Vector Regressor</th>\n",
       "      <td>1784.26</td>\n",
       "      <td>1076.23</td>\n",
       "      <td>-0.549503</td>\n",
       "    </tr>\n",
       "    <tr>\n",
       "      <th>Random Forest Regressor</th>\n",
       "      <td>129.345</td>\n",
       "      <td>18.8314</td>\n",
       "      <td>0.991857</td>\n",
       "    </tr>\n",
       "    <tr>\n",
       "      <th>Polynomial Regression</th>\n",
       "      <td>1.99557e-07</td>\n",
       "      <td>1.43821e-08</td>\n",
       "      <td>1</td>\n",
       "    </tr>\n",
       "  </tbody>\n",
       "</table>\n",
       "</div>"
      ],
      "text/plain": [
       "                                 RMSE          MEA  R_Square\n",
       "Model                                                       \n",
       "Linear Regression             903.468      767.309  0.602714\n",
       "Support Vector Regressor      1784.26      1076.23 -0.549503\n",
       "Random Forest Regressor       129.345      18.8314  0.991857\n",
       "Polynomial Regression     1.99557e-07  1.43821e-08         1"
      ]
     },
     "execution_count": 70,
     "metadata": {},
     "output_type": "execute_result"
    }
   ],
   "source": [
    "for n in range(0,1):\n",
    "    for m in range(0,4):\n",
    "        if(m==3):\n",
    "            Eva_Mtx.iloc[m][n]=np.sqrt(mean_squared_error(y1_test, y3_pred))\n",
    "            break\n",
    "            \n",
    "        Eva_Mtx.iloc[m][n]=np.sqrt(mean_squared_error(y_test, yh[m]))\n",
    "        \n",
    "for n in range(1,2):\n",
    "    for m in range(0,4):\n",
    "        if(m==3):\n",
    "            Eva_Mtx.iloc[m][n]=mean_absolute_error(y1_test, y3_pred)\n",
    "            break\n",
    "            \n",
    "        Eva_Mtx.iloc[m][n]=mean_absolute_error(y_test, yh[m])\n",
    "\n",
    "for n in range(2,3):\n",
    "    for m in range(0,4):\n",
    "        if(m==3):\n",
    "            Eva_Mtx.iloc[m][n]=r2_score(y1_test, y3_pred)\n",
    "            break\n",
    "            \n",
    "        Eva_Mtx.iloc[m][n]=r2_score(y_test, yh[m])        \n",
    "        \n",
    "Eva_Mtx"
   ]
  },
  {
   "cell_type": "markdown",
   "metadata": {},
   "source": [
    "## Polynomial Regression model is best for this dataset."
   ]
  },
  {
   "cell_type": "markdown",
   "metadata": {},
   "source": [
    "## Thank you!"
   ]
  }
 ],
 "metadata": {
  "kernelspec": {
   "display_name": "Python 3",
   "language": "python",
   "name": "python3"
  },
  "language_info": {
   "codemirror_mode": {
    "name": "ipython",
    "version": 3
   },
   "file_extension": ".py",
   "mimetype": "text/x-python",
   "name": "python",
   "nbconvert_exporter": "python",
   "pygments_lexer": "ipython3",
   "version": "3.6.8"
  }
 },
 "nbformat": 4,
 "nbformat_minor": 2
}
